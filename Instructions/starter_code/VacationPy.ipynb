{
 "cells": [
  {
   "cell_type": "markdown",
   "metadata": {},
   "source": [
    "# VacationPy\n",
    "----\n",
    "\n",
    "#### Note\n",
    "* Keep an eye on your API usage. Use https://developers.google.com/maps/reporting/gmp-reporting as reference for how to monitor your usage and billing.\n",
    "\n",
    "* Instructions have been included for each segment. You do not have to follow them exactly, but they are included to help you think through the steps."
   ]
  },
  {
   "cell_type": "code",
   "execution_count": 1,
   "metadata": {},
   "outputs": [],
   "source": [
    "# Dependencies and Setup\n",
    "import matplotlib.pyplot as plt\n",
    "import pandas as pd\n",
    "import numpy as np\n",
    "import requests\n",
    "import gmaps\n",
    "import os\n",
    "\n",
    "# Import API key\n",
    "from api_keys import g_key"
   ]
  },
  {
   "cell_type": "markdown",
   "metadata": {},
   "source": [
    "### Store Part I results into DataFrame\n",
    "* Load the csv exported in Part I to a DataFrame"
   ]
  },
  {
   "cell_type": "code",
   "execution_count": 2,
   "metadata": {},
   "outputs": [
    {
     "data": {
      "text/html": [
       "<div>\n",
       "<style scoped>\n",
       "    .dataframe tbody tr th:only-of-type {\n",
       "        vertical-align: middle;\n",
       "    }\n",
       "\n",
       "    .dataframe tbody tr th {\n",
       "        vertical-align: top;\n",
       "    }\n",
       "\n",
       "    .dataframe thead th {\n",
       "        text-align: right;\n",
       "    }\n",
       "</style>\n",
       "<table border=\"1\" class=\"dataframe\">\n",
       "  <thead>\n",
       "    <tr style=\"text-align: right;\">\n",
       "      <th></th>\n",
       "      <th>City</th>\n",
       "      <th>Lat</th>\n",
       "      <th>Long</th>\n",
       "      <th>Max Temp</th>\n",
       "      <th>Humidity</th>\n",
       "      <th>Cloudiness</th>\n",
       "      <th>Wind Speed</th>\n",
       "      <th>Country</th>\n",
       "      <th>Date</th>\n",
       "    </tr>\n",
       "  </thead>\n",
       "  <tbody>\n",
       "    <tr>\n",
       "      <th>0</th>\n",
       "      <td>katsuura</td>\n",
       "      <td>35.1333</td>\n",
       "      <td>140.3000</td>\n",
       "      <td>71.19</td>\n",
       "      <td>95</td>\n",
       "      <td>100</td>\n",
       "      <td>15.12</td>\n",
       "      <td>JP</td>\n",
       "      <td>1625426941</td>\n",
       "    </tr>\n",
       "    <tr>\n",
       "      <th>1</th>\n",
       "      <td>ponta do sol</td>\n",
       "      <td>32.6667</td>\n",
       "      <td>-17.1000</td>\n",
       "      <td>74.03</td>\n",
       "      <td>81</td>\n",
       "      <td>0</td>\n",
       "      <td>5.32</td>\n",
       "      <td>PT</td>\n",
       "      <td>1625426941</td>\n",
       "    </tr>\n",
       "    <tr>\n",
       "      <th>2</th>\n",
       "      <td>causapscal</td>\n",
       "      <td>48.3542</td>\n",
       "      <td>-67.2270</td>\n",
       "      <td>70.03</td>\n",
       "      <td>44</td>\n",
       "      <td>100</td>\n",
       "      <td>4.65</td>\n",
       "      <td>CA</td>\n",
       "      <td>1625426942</td>\n",
       "    </tr>\n",
       "    <tr>\n",
       "      <th>3</th>\n",
       "      <td>kapaa</td>\n",
       "      <td>22.0752</td>\n",
       "      <td>-159.3190</td>\n",
       "      <td>80.92</td>\n",
       "      <td>77</td>\n",
       "      <td>75</td>\n",
       "      <td>5.01</td>\n",
       "      <td>US</td>\n",
       "      <td>1625426942</td>\n",
       "    </tr>\n",
       "    <tr>\n",
       "      <th>4</th>\n",
       "      <td>manokwari</td>\n",
       "      <td>-0.8667</td>\n",
       "      <td>134.0833</td>\n",
       "      <td>77.54</td>\n",
       "      <td>84</td>\n",
       "      <td>100</td>\n",
       "      <td>5.91</td>\n",
       "      <td>ID</td>\n",
       "      <td>1625426943</td>\n",
       "    </tr>\n",
       "  </tbody>\n",
       "</table>\n",
       "</div>"
      ],
      "text/plain": [
       "           City      Lat      Long  Max Temp  Humidity  Cloudiness  \\\n",
       "0      katsuura  35.1333  140.3000     71.19        95         100   \n",
       "1  ponta do sol  32.6667  -17.1000     74.03        81           0   \n",
       "2    causapscal  48.3542  -67.2270     70.03        44         100   \n",
       "3         kapaa  22.0752 -159.3190     80.92        77          75   \n",
       "4     manokwari  -0.8667  134.0833     77.54        84         100   \n",
       "\n",
       "   Wind Speed Country        Date  \n",
       "0       15.12      JP  1625426941  \n",
       "1        5.32      PT  1625426941  \n",
       "2        4.65      CA  1625426942  \n",
       "3        5.01      US  1625426942  \n",
       "4        5.91      ID  1625426943  "
      ]
     },
     "execution_count": 2,
     "metadata": {},
     "output_type": "execute_result"
    }
   ],
   "source": [
    "# Read the weather data and the study results\n",
    "weather = pd.read_csv(\"weatherpy.csv\")\n",
    "weather_df = pd.DataFrame(weather)\n",
    "weather_df.head()\n",
    "\n"
   ]
  },
  {
   "cell_type": "markdown",
   "metadata": {},
   "source": [
    "### Humidity Heatmap\n",
    "* Configure gmaps.\n",
    "* Use the Lat and Lng as locations and Humidity as the weight.\n",
    "* Add Heatmap layer to map."
   ]
  },
  {
   "cell_type": "code",
   "execution_count": 3,
   "metadata": {},
   "outputs": [],
   "source": [
    "# Configure gmaps with API key\n",
    "gmaps.configure(api_key=g_key)"
   ]
  },
  {
   "cell_type": "code",
   "execution_count": 4,
   "metadata": {},
   "outputs": [],
   "source": [
    "# Store 'Lat' and 'Long' into  locations \n",
    "locations = weather_df[[\"Lat\", \"Long\"]].astype(float)\n",
    "\n",
    "#Store Humidity as the weight\n",
    "hum_rate = weather_df[\"Humidity\"].astype(float)\n",
    "\n"
   ]
  },
  {
   "cell_type": "code",
   "execution_count": 8,
   "metadata": {
    "scrolled": true
   },
   "outputs": [
    {
     "data": {
      "application/vnd.jupyter.widget-view+json": {
       "model_id": "9ef4351dc6e04a10902b1449909028ed",
       "version_major": 2,
       "version_minor": 0
      },
      "text/plain": [
       "Figure(layout=FigureLayout(height='420px'))"
      ]
     },
     "metadata": {},
     "output_type": "display_data"
    },
    {
     "data": {
      "text/plain": [
       "<Figure size 432x288 with 0 Axes>"
      ]
     },
     "metadata": {},
     "output_type": "display_data"
    }
   ],
   "source": [
    "# Create a poverty Heatmap layer\n",
    "fig = gmaps.figure(center=(48.0, 0.0), zoom_level=2)\n",
    "\n",
    "heat_layer = gmaps.heatmap_layer(locations, weights=hum_rate, \n",
    "                                 dissipating=False, max_intensity=100,\n",
    "                                 point_radius = 2, opacity=1)\n",
    "\n",
    "fig.add_layer(heat_layer)\n",
    "\n",
    "plt.savefig(\"vacation_heat_map.png\")\n",
    "fig"
   ]
  },
  {
   "cell_type": "markdown",
   "metadata": {},
   "source": [
    "### Create new DataFrame fitting weather criteria\n",
    "* Narrow down the cities to fit weather conditions.\n",
    "* Drop any rows will null values."
   ]
  },
  {
   "cell_type": "code",
   "execution_count": 9,
   "metadata": {},
   "outputs": [
    {
     "data": {
      "text/html": [
       "<div>\n",
       "<style scoped>\n",
       "    .dataframe tbody tr th:only-of-type {\n",
       "        vertical-align: middle;\n",
       "    }\n",
       "\n",
       "    .dataframe tbody tr th {\n",
       "        vertical-align: top;\n",
       "    }\n",
       "\n",
       "    .dataframe thead th {\n",
       "        text-align: right;\n",
       "    }\n",
       "</style>\n",
       "<table border=\"1\" class=\"dataframe\">\n",
       "  <thead>\n",
       "    <tr style=\"text-align: right;\">\n",
       "      <th></th>\n",
       "      <th>City</th>\n",
       "      <th>Lat</th>\n",
       "      <th>Long</th>\n",
       "      <th>Max Temp</th>\n",
       "      <th>Humidity</th>\n",
       "      <th>Cloudiness</th>\n",
       "      <th>Wind Speed</th>\n",
       "      <th>Country</th>\n",
       "      <th>Date</th>\n",
       "    </tr>\n",
       "  </thead>\n",
       "  <tbody>\n",
       "    <tr>\n",
       "      <th>1</th>\n",
       "      <td>ponta do sol</td>\n",
       "      <td>32.6667</td>\n",
       "      <td>-17.1000</td>\n",
       "      <td>74.03</td>\n",
       "      <td>81</td>\n",
       "      <td>0</td>\n",
       "      <td>5.32</td>\n",
       "      <td>PT</td>\n",
       "      <td>1625426941</td>\n",
       "    </tr>\n",
       "    <tr>\n",
       "      <th>116</th>\n",
       "      <td>lata</td>\n",
       "      <td>40.1629</td>\n",
       "      <td>-8.3327</td>\n",
       "      <td>71.04</td>\n",
       "      <td>66</td>\n",
       "      <td>0</td>\n",
       "      <td>6.98</td>\n",
       "      <td>PT</td>\n",
       "      <td>1625427000</td>\n",
       "    </tr>\n",
       "    <tr>\n",
       "      <th>126</th>\n",
       "      <td>arraial do cabo</td>\n",
       "      <td>-22.9661</td>\n",
       "      <td>-42.0278</td>\n",
       "      <td>73.36</td>\n",
       "      <td>68</td>\n",
       "      <td>0</td>\n",
       "      <td>9.22</td>\n",
       "      <td>BR</td>\n",
       "      <td>1625427009</td>\n",
       "    </tr>\n",
       "    <tr>\n",
       "      <th>203</th>\n",
       "      <td>esmeraldas</td>\n",
       "      <td>-19.7625</td>\n",
       "      <td>-44.3139</td>\n",
       "      <td>73.51</td>\n",
       "      <td>29</td>\n",
       "      <td>0</td>\n",
       "      <td>4.81</td>\n",
       "      <td>BR</td>\n",
       "      <td>1625426930</td>\n",
       "    </tr>\n",
       "    <tr>\n",
       "      <th>285</th>\n",
       "      <td>acari</td>\n",
       "      <td>-15.4311</td>\n",
       "      <td>-74.6158</td>\n",
       "      <td>72.88</td>\n",
       "      <td>54</td>\n",
       "      <td>0</td>\n",
       "      <td>7.61</td>\n",
       "      <td>PE</td>\n",
       "      <td>1625427093</td>\n",
       "    </tr>\n",
       "  </tbody>\n",
       "</table>\n",
       "</div>"
      ],
      "text/plain": [
       "                City      Lat     Long  Max Temp  Humidity  Cloudiness  \\\n",
       "1       ponta do sol  32.6667 -17.1000     74.03        81           0   \n",
       "116             lata  40.1629  -8.3327     71.04        66           0   \n",
       "126  arraial do cabo -22.9661 -42.0278     73.36        68           0   \n",
       "203       esmeraldas -19.7625 -44.3139     73.51        29           0   \n",
       "285            acari -15.4311 -74.6158     72.88        54           0   \n",
       "\n",
       "     Wind Speed Country        Date  \n",
       "1          5.32      PT  1625426941  \n",
       "116        6.98      PT  1625427000  \n",
       "126        9.22      BR  1625427009  \n",
       "203        4.81      BR  1625426930  \n",
       "285        7.61      PE  1625427093  "
      ]
     },
     "execution_count": 9,
     "metadata": {},
     "output_type": "execute_result"
    }
   ],
   "source": [
    "#max temperature lower than 80 degrees but higher than 70.\n",
    "temp1 = weather_df.loc[weather_df[\"Max Temp\"]<80,:]\n",
    "temp2 = temp1.loc[weather_df[\"Max Temp\"]>70,:]\n",
    "temp2.head()\n",
    "\n",
    "#Wind speed less than 10 mph.\n",
    "wind = temp2.loc[temp2[\"Wind Speed\"]<10,:]\n",
    "wind.head()\n",
    "\n",
    "#Zero cloudiness.\n",
    "cloud = wind.loc[wind[\"Cloudiness\"]==0,:]\n",
    "cloud.head()\n"
   ]
  },
  {
   "cell_type": "markdown",
   "metadata": {},
   "source": [
    "### Hotel Map\n",
    "* Store into variable named `hotel_df`.\n",
    "* Add a \"Hotel Name\" column to the DataFrame.\n",
    "* Set parameters to search for hotels with 5000 meters.\n",
    "* Hit the Google Places API for each city's coordinates.\n",
    "* Store the first Hotel result into the DataFrame.\n",
    "* Plot markers on top of the heatmap."
   ]
  },
  {
   "cell_type": "code",
   "execution_count": 10,
   "metadata": {},
   "outputs": [
    {
     "data": {
      "text/html": [
       "<div>\n",
       "<style scoped>\n",
       "    .dataframe tbody tr th:only-of-type {\n",
       "        vertical-align: middle;\n",
       "    }\n",
       "\n",
       "    .dataframe tbody tr th {\n",
       "        vertical-align: top;\n",
       "    }\n",
       "\n",
       "    .dataframe thead th {\n",
       "        text-align: right;\n",
       "    }\n",
       "</style>\n",
       "<table border=\"1\" class=\"dataframe\">\n",
       "  <thead>\n",
       "    <tr style=\"text-align: right;\">\n",
       "      <th></th>\n",
       "      <th>City</th>\n",
       "      <th>Country</th>\n",
       "      <th>Lat</th>\n",
       "      <th>Lng</th>\n",
       "      <th>Hotel Name</th>\n",
       "    </tr>\n",
       "  </thead>\n",
       "  <tbody>\n",
       "    <tr>\n",
       "      <th>1</th>\n",
       "      <td>ponta do sol</td>\n",
       "      <td>PT</td>\n",
       "      <td>32.6667</td>\n",
       "      <td>-17.1000</td>\n",
       "      <td></td>\n",
       "    </tr>\n",
       "    <tr>\n",
       "      <th>116</th>\n",
       "      <td>lata</td>\n",
       "      <td>PT</td>\n",
       "      <td>40.1629</td>\n",
       "      <td>-8.3327</td>\n",
       "      <td></td>\n",
       "    </tr>\n",
       "    <tr>\n",
       "      <th>126</th>\n",
       "      <td>arraial do cabo</td>\n",
       "      <td>BR</td>\n",
       "      <td>-22.9661</td>\n",
       "      <td>-42.0278</td>\n",
       "      <td></td>\n",
       "    </tr>\n",
       "    <tr>\n",
       "      <th>203</th>\n",
       "      <td>esmeraldas</td>\n",
       "      <td>BR</td>\n",
       "      <td>-19.7625</td>\n",
       "      <td>-44.3139</td>\n",
       "      <td></td>\n",
       "    </tr>\n",
       "    <tr>\n",
       "      <th>285</th>\n",
       "      <td>acari</td>\n",
       "      <td>PE</td>\n",
       "      <td>-15.4311</td>\n",
       "      <td>-74.6158</td>\n",
       "      <td></td>\n",
       "    </tr>\n",
       "  </tbody>\n",
       "</table>\n",
       "</div>"
      ],
      "text/plain": [
       "                City Country      Lat      Lng Hotel Name\n",
       "1       ponta do sol      PT  32.6667 -17.1000           \n",
       "116             lata      PT  40.1629  -8.3327           \n",
       "126  arraial do cabo      BR -22.9661 -42.0278           \n",
       "203       esmeraldas      BR -19.7625 -44.3139           \n",
       "285            acari      PE -15.4311 -74.6158           "
      ]
     },
     "execution_count": 10,
     "metadata": {},
     "output_type": "execute_result"
    }
   ],
   "source": [
    "#Store into variable named hotel_df.\n",
    "#Add a \"Hotel Name\" column to the DataFrame.\n",
    "hotel_df = pd.DataFrame()\n",
    "fifth = pd.DataFrame(cloud)\n",
    "hotel_df['City'] = fifth['City']\n",
    "hotel_df['Country'] = fifth['Country']\n",
    "hotel_df['Lat'] = fifth['Lat']\n",
    "hotel_df['Lng'] = fifth['Long']\n",
    "hotel_df['Hotel Name'] = \"\"\n",
    "hotel_df.head()"
   ]
  },
  {
   "cell_type": "code",
   "execution_count": 12,
   "metadata": {},
   "outputs": [
    {
     "name": "stdout",
     "output_type": "stream",
     "text": [
      "Retrieving Results for Index 1: ponta do sol.\n",
      "Missing field/result... skipping.\n",
      "------------\n",
      "Retrieving Results for Index 116: lata.\n",
      "Missing field/result... skipping.\n",
      "------------\n",
      "Retrieving Results for Index 126: arraial do cabo.\n",
      "Missing field/result... skipping.\n",
      "------------\n",
      "Retrieving Results for Index 203: esmeraldas.\n",
      "Missing field/result... skipping.\n",
      "------------\n",
      "Retrieving Results for Index 285: acari.\n",
      "Missing field/result... skipping.\n",
      "------------\n",
      "Retrieving Results for Index 286: quelimane.\n",
      "Missing field/result... skipping.\n",
      "------------\n",
      "Retrieving Results for Index 292: denizli.\n",
      "Missing field/result... skipping.\n",
      "------------\n",
      "Retrieving Results for Index 296: luanda.\n",
      "Missing field/result... skipping.\n",
      "------------\n",
      "Retrieving Results for Index 316: kurchum.\n",
      "Missing field/result... skipping.\n",
      "------------\n",
      "Retrieving Results for Index 377: avila.\n",
      "Missing field/result... skipping.\n",
      "------------\n",
      "Retrieving Results for Index 419: guarapari.\n",
      "Missing field/result... skipping.\n",
      "------------\n",
      "Retrieving Results for Index 492: maniwaki.\n",
      "Missing field/result... skipping.\n",
      "------------\n",
      "Retrieving Results for Index 501: bayir.\n",
      "Missing field/result... skipping.\n",
      "------------\n",
      "Retrieving Results for Index 510: rovaniemi.\n",
      "Missing field/result... skipping.\n",
      "------------\n",
      "Retrieving Results for Index 530: pirgos.\n",
      "Missing field/result... skipping.\n",
      "------------\n",
      "Retrieving Results for Index 536: lasem.\n",
      "Missing field/result... skipping.\n",
      "------------\n",
      "Retrieving Results for Index 567: buin.\n",
      "Missing field/result... skipping.\n",
      "------------\n"
     ]
    }
   ],
   "source": [
    "# use iterrows to iterate through pandas dataframe\n",
    "for index, row in hotel_df.iterrows():\n",
    "\n",
    "    # get restaurant type from df\n",
    "    latitude = row['Lat']\n",
    "    longitude = row['Lng']\n",
    "    city = row['City']\n",
    "    country = row['Country']\n",
    "\n",
    "    # assemble url and make API request\n",
    "    print(f\"Retrieving Results for Index {index}: {city}.\")\n",
    "    response = requests.get(f\"https://maps.googleapis.com/maps/api/place/textsearch/json?location={latitude},{longitude}&radius=5000&type=hotel&key={g_key}\").json()\n",
    "    \n",
    "    # extract results\n",
    "    results = response['results']\n",
    "    \n",
    "    try:\n",
    "        hotelname = response['results'][7]['name']\n",
    "        print(f\"Closest hotel to {city} at {latitude} , {longitude} is {hotelname}.\")\n",
    "        \n",
    "        hotel_df.loc[index, \"Hotel Name\"] = hotelname\n",
    "        \n",
    "    except (KeyError, IndexError):\n",
    "        print(\"Missing field/result... skipping.\")\n",
    "        \n",
    "    print(\"------------\")"
   ]
  },
  {
   "cell_type": "code",
   "execution_count": 13,
   "metadata": {},
   "outputs": [],
   "source": [
    "# NOTE: Do not change any of the code in this cell\n",
    "\n",
    "# Using the template add the hotel marks to the heatmap\n",
    "info_box_template = \"\"\"\n",
    "<dl>\n",
    "<dt>Name</dt><dd>{Hotel Name}</dd>\n",
    "<dt>City</dt><dd>{City}</dd>\n",
    "<dt>Country</dt><dd>{Country}</dd>\n",
    "</dl>\n",
    "\"\"\"\n",
    "# Store the DataFrame Row\n",
    "# NOTE: be sure to update with your DataFrame name\n",
    "hotel_info = [info_box_template.format(**row) for index, row in hotel_df.iterrows()]\n",
    "locations = hotel_df[[\"Lat\", \"Lng\"]]"
   ]
  },
  {
   "cell_type": "code",
   "execution_count": 14,
   "metadata": {},
   "outputs": [
    {
     "name": "stdout",
     "output_type": "stream",
     "text": [
      "Figure(layout=FigureLayout(height='420px'))\n"
     ]
    }
   ],
   "source": [
    "# Add marker layer ontop of heat map\n",
    "marker_layer = gmaps.marker_layer(locations, info_box_content=hotel_info)\n",
    "fig.add_layer(marker_layer)\n",
    "\n",
    "# Display figure\n",
    "print(fig)"
   ]
  },
  {
   "cell_type": "code",
   "execution_count": null,
   "metadata": {},
   "outputs": [],
   "source": []
  },
  {
   "cell_type": "code",
   "execution_count": null,
   "metadata": {},
   "outputs": [],
   "source": []
  },
  {
   "cell_type": "code",
   "execution_count": null,
   "metadata": {},
   "outputs": [],
   "source": []
  }
 ],
 "metadata": {
  "kernelspec": {
   "display_name": "Python 3",
   "language": "python",
   "name": "python3"
  },
  "language_info": {
   "codemirror_mode": {
    "name": "ipython",
    "version": 3
   },
   "file_extension": ".py",
   "mimetype": "text/x-python",
   "name": "python",
   "nbconvert_exporter": "python",
   "pygments_lexer": "ipython3",
   "version": "3.8.5"
  },
  "latex_envs": {
   "LaTeX_envs_menu_present": true,
   "autoclose": false,
   "autocomplete": true,
   "bibliofile": "biblio.bib",
   "cite_by": "apalike",
   "current_citInitial": 1,
   "eqLabelWithNumbers": true,
   "eqNumInitial": 1,
   "hotkeys": {
    "equation": "Ctrl-E",
    "itemize": "Ctrl-I"
   },
   "labels_anchors": false,
   "latex_user_defs": false,
   "report_style_numbering": false,
   "user_envs_cfg": false
  }
 },
 "nbformat": 4,
 "nbformat_minor": 4
}
