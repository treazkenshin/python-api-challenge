{
 "cells": [
  {
   "cell_type": "markdown",
   "metadata": {},
   "source": [
    "# WeatherPy\n",
    "----\n",
    "\n",
    "#### Note\n",
    "* Instructions have been included for each segment. You do not have to follow them exactly, but they are included to help you think through the steps."
   ]
  },
  {
   "cell_type": "code",
   "execution_count": 1,
   "metadata": {
    "scrolled": true
   },
   "outputs": [
    {
     "name": "stdout",
     "output_type": "stream",
     "text": [
      "890a4458332412807f7eed9426198cc7\n"
     ]
    }
   ],
   "source": [
    "# Dependencies and Setup\n",
    "import matplotlib.pyplot as plt\n",
    "import pandas as pd\n",
    "import numpy as np\n",
    "import requests\n",
    "import time\n",
    "from scipy.stats import linregress\n",
    "\n",
    "# Import API key\n",
    "from api_keys import weather_api_key\n",
    "\n",
    "# Incorporated citipy to determine city based on latitude and longitude\n",
    "from citipy import citipy\n",
    "\n",
    "# Output File (CSV)\n",
    "output_data_file = \"/Users/treazkenshin/Downloads/cwru-cle-data-pt-01-2021-u-c-master-Homework-06-Python-APIs/Homework/06-Python-APIs/Solutions/cities.csv\"\n",
    "\n",
    "# Range of latitudes and longitudes\n",
    "lat_range = (-90, 90)\n",
    "lng_range = (-180, 180)\n",
    "print(weather_api_key)"
   ]
  },
  {
   "cell_type": "markdown",
   "metadata": {},
   "source": [
    "## Generate Cities List"
   ]
  },
  {
   "cell_type": "code",
   "execution_count": 2,
   "metadata": {},
   "outputs": [
    {
     "data": {
      "text/plain": [
       "626"
      ]
     },
     "execution_count": 2,
     "metadata": {},
     "output_type": "execute_result"
    }
   ],
   "source": [
    "# List for holding lat_lngs and cities\n",
    "lat_lngs = []\n",
    "cities = []\n",
    "\n",
    "# Create a set of random lat and lng combinations\n",
    "lats = np.random.uniform(lat_range[0], lat_range[1], size=1500)\n",
    "lngs = np.random.uniform(lng_range[0], lng_range[1], size=1500)\n",
    "lat_lngs = zip(lats, lngs)\n",
    "\n",
    "# Identify nearest city for each lat, lng combination\n",
    "for lat_lng in lat_lngs:\n",
    "    city = citipy.nearest_city(lat_lng[0], lat_lng[1]).city_name\n",
    "    \n",
    "    # If the city is unique, then add it to a our cities list\n",
    "    if city not in cities:\n",
    "        cities.append(city)\n",
    "\n",
    "# Print the city count to confirm sufficient count\n",
    "len(cities)\n",
    "#print(cities[:10])"
   ]
  },
  {
   "cell_type": "markdown",
   "metadata": {},
   "source": [
    "### Perform API Calls\n",
    "* Perform a weather check on each city using a series of successive API calls.\n",
    "* Include a print log of each city as it'sbeing processed (with the city number and city name).\n"
   ]
  },
  {
   "cell_type": "code",
   "execution_count": 11,
   "metadata": {
    "scrolled": true
   },
   "outputs": [
    {
     "name": "stdout",
     "output_type": "stream",
     "text": [
      "Beginning Data Retrieval\n",
      "-------------------------------\n",
      "Processing Record 2 of Set 1 | katsuura\n",
      "Processing Record 3 of Set 1 | ponta do sol\n",
      "Processing Record 4 of Set 1 | causapscal\n",
      "Processing Record 5 of Set 1 | kapaa\n",
      "Processing Record 6 of Set 1 | manokwari\n",
      "Processing Record 7 of Set 1 | malindi\n",
      "Processing Record 8 of Set 1 | barrow\n",
      "Processing Record 9 of Set 1 | hilo\n",
      "Processing Record 10 of Set 1 | guilin\n",
      "Processing Record 11 of Set 1 | naze\n",
      "Processing Record 12 of Set 1 | ushuaia\n",
      "Processing Record 13 of Set 1 | rikitea\n",
      "Processing Record 14 of Set 1 | evensk\n",
      "Processing Record 15 of Set 1 | narsaq\n",
      "Processing Record 16 of Set 1 | avarua\n",
      "Processing Record 17 of Set 1 | tautira\n",
      "Processing Record 18 of Set 1 | albany\n",
      "Processing Record 19 of Set 1 | santa cruz\n",
      "Processing Record 20 of Set 1 | listvyanka\n",
      "City not found. Skipping...\n",
      "Processing Record 22 of Set 1 | thompson\n",
      "Processing Record 23 of Set 1 | torbay\n",
      "Processing Record 24 of Set 1 | te anau\n",
      "Processing Record 25 of Set 1 | tasiilaq\n",
      "City not found. Skipping...\n",
      "Processing Record 27 of Set 1 | veraval\n",
      "Processing Record 28 of Set 1 | bluff\n",
      "Processing Record 29 of Set 1 | udachnyy\n",
      "Processing Record 30 of Set 1 | olafsvik\n",
      "Processing Record 31 of Set 1 | kuloy\n",
      "Processing Record 32 of Set 1 | yabrud\n",
      "Processing Record 33 of Set 1 | hamilton\n",
      "Processing Record 34 of Set 1 | vaini\n",
      "Processing Record 35 of Set 1 | souillac\n",
      "Processing Record 36 of Set 1 | atuona\n",
      "Processing Record 37 of Set 1 | yumen\n",
      "Processing Record 38 of Set 1 | jamestown\n",
      "Processing Record 39 of Set 1 | mastic beach\n",
      "Processing Record 40 of Set 1 | markova\n",
      "Processing Record 41 of Set 1 | pimentel\n",
      "Processing Record 42 of Set 1 | puerto ayora\n",
      "Processing Record 43 of Set 1 | hobyo\n",
      "Processing Record 44 of Set 1 | cape town\n",
      "Processing Record 45 of Set 1 | sur\n",
      "Processing Record 46 of Set 1 | bandarbeyla\n",
      "Processing Record 47 of Set 1 | sitka\n",
      "Processing Record 48 of Set 1 | hualmay\n",
      "Processing Record 49 of Set 1 | castro\n",
      "Processing Record 50 of Set 1 | qaanaaq\n",
      "Processing Record 51 of Set 1 | pacific grove\n",
      "Processing Record 52 of Set 1 | port alfred\n",
      "Processing Record 53 of Set 1 | waingapu\n",
      "Processing Record 54 of Set 1 | panaba\n",
      "Processing Record 55 of Set 1 | mataura\n",
      "Processing Record 56 of Set 1 | sosnytsya\n",
      "Processing Record 57 of Set 1 | tiksi\n",
      "Processing Record 58 of Set 1 | sao filipe\n",
      "Processing Record 59 of Set 1 | yerbogachen\n",
      "Processing Record 60 of Set 1 | saint-georges\n",
      "Processing Record 61 of Set 1 | paamiut\n",
      "Processing Record 62 of Set 1 | boyolangu\n",
      "Processing Record 63 of Set 1 | xuddur\n",
      "Processing Record 64 of Set 1 | margate\n",
      "Processing Record 65 of Set 1 | luderitz\n",
      "Processing Record 66 of Set 1 | umba\n",
      "Processing Record 67 of Set 1 | lebu\n",
      "Processing Record 68 of Set 1 | nikolskoye\n",
      "Processing Record 69 of Set 1 | languyan\n",
      "Processing Record 70 of Set 1 | morondava\n",
      "Processing Record 71 of Set 1 | parkes\n",
      "Processing Record 72 of Set 1 | port keats\n",
      "City not found. Skipping...\n",
      "Processing Record 74 of Set 1 | bethel\n",
      "Processing Record 75 of Set 1 | kloulklubed\n",
      "Processing Record 76 of Set 1 | husavik\n",
      "Processing Record 77 of Set 1 | longyearbyen\n",
      "Processing Record 78 of Set 1 | durant\n",
      "Processing Record 79 of Set 1 | valdivia\n",
      "Processing Record 80 of Set 1 | tutoia\n",
      "Processing Record 81 of Set 1 | ixtapa\n",
      "Processing Record 82 of Set 1 | east london\n",
      "Processing Record 83 of Set 1 | yellowknife\n",
      "Processing Record 84 of Set 1 | fairbanks\n",
      "Processing Record 85 of Set 1 | banamba\n",
      "City not found. Skipping...\n",
      "Processing Record 87 of Set 1 | kabalo\n",
      "Processing Record 88 of Set 1 | sokoto\n",
      "Processing Record 89 of Set 1 | nsanje\n",
      "Processing Record 90 of Set 1 | butaritari\n",
      "Processing Record 91 of Set 1 | el sauzal\n",
      "Processing Record 92 of Set 1 | olga\n",
      "Processing Record 93 of Set 1 | beloha\n",
      "City not found. Skipping...\n",
      "Processing Record 95 of Set 1 | pemangkat\n",
      "Processing Record 96 of Set 1 | saint-philippe\n",
      "Processing Record 97 of Set 1 | kovdor\n",
      "Processing Record 98 of Set 1 | hermanus\n",
      "Processing Record 99 of Set 1 | cherskiy\n",
      "Processing Record 100 of Set 1 | pisco\n",
      "Processing Record 101 of Set 1 | punta arenas\n",
      "Processing Record 102 of Set 1 | altamira\n",
      "Processing Record 103 of Set 1 | pevek\n",
      "City not found. Skipping...\n",
      "Processing Record 105 of Set 1 | mount gambier\n",
      "Processing Record 106 of Set 1 | fort nelson\n",
      "Processing Record 107 of Set 1 | chisec\n",
      "Processing Record 108 of Set 1 | truro\n",
      "Processing Record 109 of Set 1 | nortelandia\n",
      "Processing Record 110 of Set 1 | tuktoyaktuk\n",
      "City not found. Skipping...\n",
      "Processing Record 112 of Set 1 | itoman\n",
      "Processing Record 113 of Set 1 | yeppoon\n",
      "Processing Record 114 of Set 1 | hobart\n",
      "Processing Record 115 of Set 1 | tilichiki\n",
      "Processing Record 116 of Set 1 | norman wells\n",
      "Processing Record 117 of Set 1 | san luis\n",
      "Processing Record 118 of Set 1 | almaznyy\n",
      "Processing Record 119 of Set 1 | bisho\n",
      "City not found. Skipping...\n",
      "Processing Record 121 of Set 1 | les escoumins\n",
      "Processing Record 122 of Set 1 | bengkulu\n",
      "City not found. Skipping...\n",
      "Processing Record 124 of Set 1 | sidi bin nur\n",
      "Processing Record 125 of Set 1 | kodiak\n",
      "Processing Record 126 of Set 1 | antalaha\n",
      "City not found. Skipping...\n",
      "City not found. Skipping...\n",
      "Processing Record 129 of Set 1 | lata\n",
      "City not found. Skipping...\n",
      "Processing Record 131 of Set 1 | biak\n",
      "Processing Record 132 of Set 1 | kortkeros\n",
      "Processing Record 133 of Set 1 | chernyshevskiy\n",
      "Processing Record 134 of Set 1 | khatanga\n",
      "Processing Record 135 of Set 1 | cap malheureux\n",
      "Processing Record 136 of Set 1 | busselton\n",
      "City not found. Skipping...\n",
      "Processing Record 138 of Set 1 | tolaga bay\n",
      "Processing Record 139 of Set 1 | enshi\n",
      "Processing Record 140 of Set 1 | faanui\n",
      "Processing Record 141 of Set 1 | arraial do cabo\n",
      "Processing Record 142 of Set 1 | saint anthony\n",
      "Processing Record 143 of Set 1 | chuy\n",
      "Processing Record 144 of Set 1 | airai\n",
      "Processing Record 145 of Set 1 | kabin buri\n",
      "Processing Record 146 of Set 1 | namatanai\n",
      "Processing Record 147 of Set 1 | kahului\n",
      "Processing Record 148 of Set 1 | anori\n",
      "Processing Record 149 of Set 1 | byron bay\n",
      "Processing Record 150 of Set 1 | itaqui\n",
      "Processing Record 151 of Set 1 | cachoeirinha\n",
      "Processing Record 152 of Set 1 | bundaberg\n",
      "Processing Record 153 of Set 1 | conceicao da barra\n",
      "Processing Record 154 of Set 1 | ancud\n",
      "Processing Record 155 of Set 1 | plettenberg bay\n",
      "Processing Record 156 of Set 1 | kavaratti\n",
      "Processing Record 157 of Set 1 | yarada\n",
      "Processing Record 158 of Set 1 | mata de sao joao\n",
      "Processing Record 159 of Set 1 | bambanglipuro\n",
      "Processing Record 160 of Set 1 | henties bay\n",
      "City not found. Skipping...\n",
      "Processing Record 162 of Set 1 | camalu\n",
      "Processing Record 163 of Set 1 | lieksa\n",
      "Processing Record 164 of Set 1 | villa de reyes\n",
      "Processing Record 165 of Set 1 | port lincoln\n",
      "City not found. Skipping...\n",
      "Processing Record 167 of Set 1 | new norfolk\n",
      "City not found. Skipping...\n",
      "Processing Record 169 of Set 1 | geraldton\n",
      "Processing Record 170 of Set 1 | perth\n",
      "Processing Record 171 of Set 1 | thomaston\n",
      "Processing Record 172 of Set 1 | gore\n",
      "Processing Record 173 of Set 1 | ushumun\n",
      "Processing Record 174 of Set 1 | nome\n",
      "City not found. Skipping...\n",
      "Processing Record 176 of Set 1 | zhongshu\n",
      "Processing Record 177 of Set 1 | codrington\n",
      "City not found. Skipping...\n",
      "Processing Record 179 of Set 1 | corsicana\n",
      "Processing Record 180 of Set 1 | stromness\n",
      "Processing Record 181 of Set 1 | bealanana\n",
      "City not found. Skipping...\n",
      "Processing Record 183 of Set 1 | nanortalik\n",
      "Processing Record 184 of Set 1 | rawson\n",
      "Processing Record 185 of Set 1 | shubarshi\n",
      "Processing Record 186 of Set 1 | saint-joseph\n",
      "Processing Record 187 of Set 1 | ozark\n",
      "Processing Record 188 of Set 1 | isangel\n",
      "City not found. Skipping...\n",
      "Processing Record 190 of Set 1 | deputatskiy\n",
      "Processing Record 191 of Set 1 | westport\n",
      "City not found. Skipping...\n",
      "City not found. Skipping...\n",
      "Processing Record 194 of Set 1 | camacupa\n",
      "Processing Record 195 of Set 1 | gasa\n",
      "Processing Record 196 of Set 1 | cairns\n",
      "City not found. Skipping...\n",
      "Processing Record 198 of Set 1 | upernavik\n",
      "Processing Record 199 of Set 1 | maniitsoq\n",
      "Processing Record 200 of Set 1 | victoria\n",
      "Processing Record 201 of Set 1 | tiznit\n",
      "Processing Record 202 of Set 1 | hithadhoo\n",
      "City not found. Skipping...\n",
      "Processing Record 204 of Set 1 | clyde river\n",
      "Processing Record 205 of Set 1 | kefamenanu\n"
     ]
    },
    {
     "name": "stdout",
     "output_type": "stream",
     "text": [
      "Processing Record 206 of Set 1 | kyra\n",
      "Processing Record 207 of Set 1 | asau\n",
      "Processing Record 208 of Set 1 | gamba\n",
      "Processing Record 209 of Set 1 | havre-saint-pierre\n",
      "Processing Record 210 of Set 1 | raisinghnagar\n",
      "Processing Record 211 of Set 1 | vila velha\n",
      "Processing Record 212 of Set 1 | khovu-aksy\n",
      "Processing Record 213 of Set 1 | tancanhuitz\n",
      "Processing Record 214 of Set 1 | kochi\n",
      "Processing Record 215 of Set 1 | kharp\n",
      "City not found. Skipping...\n",
      "Processing Record 217 of Set 1 | aginskoye\n",
      "City not found. Skipping...\n",
      "Processing Record 219 of Set 1 | ostrovnoy\n",
      "Processing Record 220 of Set 1 | bonthe\n",
      "Processing Record 221 of Set 1 | tambacounda\n",
      "Processing Record 222 of Set 1 | ribeira grande\n",
      "Processing Record 223 of Set 1 | forecariah\n",
      "City not found. Skipping...\n",
      "Processing Record 225 of Set 1 | zhengjiatun\n",
      "Processing Record 226 of Set 1 | bathsheba\n",
      "Processing Record 227 of Set 1 | goderich\n",
      "Processing Record 228 of Set 1 | bandrele\n",
      "Processing Record 229 of Set 1 | san quintin\n",
      "Processing Record 230 of Set 1 | monrovia\n",
      "Processing Record 231 of Set 1 | cidreira\n",
      "Processing Record 232 of Set 1 | esmeraldas\n",
      "Processing Record 233 of Set 1 | caceres\n",
      "Processing Record 234 of Set 1 | talnakh\n",
      "Processing Record 235 of Set 1 | klaksvik\n",
      "Processing Record 236 of Set 1 | guerrero negro\n",
      "Processing Record 237 of Set 1 | yago\n",
      "Processing Record 238 of Set 1 | lagoa\n",
      "Processing Record 239 of Set 1 | dingle\n",
      "Processing Record 240 of Set 1 | portland\n",
      "Processing Record 241 of Set 1 | dudinka\n",
      "City not found. Skipping...\n",
      "Processing Record 243 of Set 1 | cabo san lucas\n",
      "Processing Record 244 of Set 1 | mar del plata\n",
      "City not found. Skipping...\n",
      "Processing Record 246 of Set 1 | chistogorskiy\n",
      "Processing Record 247 of Set 1 | mirpur khas\n",
      "Processing Record 248 of Set 1 | bredasdorp\n",
      "City not found. Skipping...\n",
      "Processing Record 250 of Set 1 | labuan\n",
      "Processing Record 251 of Set 1 | suleja\n",
      "Processing Record 252 of Set 1 | gushikawa\n",
      "Processing Record 253 of Set 1 | chulman\n",
      "Processing Record 254 of Set 1 | lossiemouth\n",
      "Processing Record 255 of Set 1 | kishi\n",
      "Processing Record 256 of Set 1 | fort frances\n",
      "Processing Record 257 of Set 1 | kavieng\n",
      "Processing Record 258 of Set 1 | chokurdakh\n",
      "Processing Record 259 of Set 1 | dikson\n",
      "Processing Record 260 of Set 1 | adelaide\n",
      "Processing Record 261 of Set 1 | auki\n",
      "Processing Record 262 of Set 1 | gigmoto\n",
      "Processing Record 263 of Set 1 | kaeo\n",
      "Processing Record 264 of Set 1 | maues\n",
      "Processing Record 265 of Set 1 | princeton\n",
      "Processing Record 266 of Set 1 | port elizabeth\n",
      "Processing Record 267 of Set 1 | bafq\n",
      "Processing Record 268 of Set 1 | severo-kurilsk\n",
      "Processing Record 269 of Set 1 | kruisfontein\n",
      "Processing Record 270 of Set 1 | georgetown\n",
      "Processing Record 271 of Set 1 | vao\n",
      "Processing Record 272 of Set 1 | saldanha\n",
      "Processing Record 273 of Set 1 | padang\n",
      "Processing Record 274 of Set 1 | sangar\n",
      "Processing Record 275 of Set 1 | gewane\n",
      "Processing Record 276 of Set 1 | sandpoint\n",
      "Processing Record 277 of Set 1 | egvekinot\n",
      "Processing Record 278 of Set 1 | chilca\n",
      "Processing Record 279 of Set 1 | saskylakh\n",
      "Processing Record 280 of Set 1 | knyaze-volkonskoye\n",
      "Processing Record 281 of Set 1 | jumla\n",
      "Processing Record 282 of Set 1 | nantucket\n",
      "Processing Record 283 of Set 1 | leningradskiy\n",
      "Processing Record 284 of Set 1 | klyuchi\n",
      "Processing Record 285 of Set 1 | mahebourg\n",
      "Processing Record 286 of Set 1 | rongotea\n",
      "Processing Record 287 of Set 1 | richards bay\n",
      "Processing Record 288 of Set 1 | esil\n",
      "Processing Record 289 of Set 1 | copiapo\n",
      "Processing Record 290 of Set 1 | marzuq\n",
      "Processing Record 291 of Set 1 | sao joao da barra\n",
      "Processing Record 292 of Set 1 | batagay\n",
      "Processing Record 293 of Set 1 | valley city\n",
      "Processing Record 294 of Set 1 | tiarei\n",
      "Processing Record 295 of Set 1 | upington\n",
      "Processing Record 296 of Set 1 | salvador\n",
      "Processing Record 297 of Set 1 | lianran\n",
      "Processing Record 298 of Set 1 | mehamn\n",
      "Processing Record 299 of Set 1 | sinnamary\n",
      "Processing Record 300 of Set 1 | basco\n",
      "Processing Record 301 of Set 1 | beringovskiy\n",
      "Processing Record 302 of Set 1 | namibe\n",
      "Processing Record 303 of Set 1 | san rafael\n",
      "Processing Record 304 of Set 1 | vagay\n",
      "Processing Record 305 of Set 1 | half moon bay\n",
      "Processing Record 306 of Set 1 | flinders\n",
      "Processing Record 307 of Set 1 | lanzhou\n",
      "Processing Record 308 of Set 1 | raytown\n",
      "Processing Record 309 of Set 1 | constitucion\n",
      "Processing Record 310 of Set 1 | katangli\n",
      "Processing Record 311 of Set 1 | semey\n",
      "Processing Record 312 of Set 1 | bhadasar\n",
      "Processing Record 313 of Set 1 | dodge city\n",
      "Processing Record 314 of Set 1 | le port\n",
      "Processing Record 315 of Set 1 | khasan\n",
      "Processing Record 316 of Set 1 | winslow\n",
      "Processing Record 317 of Set 1 | acari\n",
      "Processing Record 318 of Set 1 | quelimane\n",
      "Processing Record 319 of Set 1 | proletarskiy\n",
      "Processing Record 320 of Set 1 | valparaiso\n",
      "Processing Record 321 of Set 1 | la palma\n",
      "Processing Record 322 of Set 1 | rosario\n",
      "Processing Record 323 of Set 1 | curup\n",
      "Processing Record 324 of Set 1 | denizli\n",
      "Processing Record 325 of Set 1 | carnarvon\n",
      "Processing Record 326 of Set 1 | naron\n",
      "Processing Record 327 of Set 1 | oranjemund\n",
      "Processing Record 328 of Set 1 | luanda\n",
      "Processing Record 329 of Set 1 | port-cartier\n",
      "Processing Record 330 of Set 1 | grinnell\n",
      "Processing Record 331 of Set 1 | wattegama\n",
      "Processing Record 332 of Set 1 | cadillac\n",
      "Processing Record 333 of Set 1 | abomey-calavi\n",
      "Processing Record 334 of Set 1 | coihaique\n",
      "Processing Record 335 of Set 1 | anchorage\n",
      "Processing Record 336 of Set 1 | barguzin\n",
      "Processing Record 337 of Set 1 | buala\n",
      "Processing Record 338 of Set 1 | havelock\n",
      "Processing Record 339 of Set 1 | stornoway\n",
      "Processing Record 340 of Set 1 | alofi\n",
      "Processing Record 341 of Set 1 | manzhouli\n",
      "Processing Record 342 of Set 1 | koyelga\n",
      "Processing Record 343 of Set 1 | avera\n",
      "Processing Record 344 of Set 1 | nhulunbuy\n",
      "Processing Record 345 of Set 1 | san patricio\n",
      "Processing Record 346 of Set 1 | andenes\n",
      "Processing Record 347 of Set 1 | sabla\n",
      "Processing Record 348 of Set 1 | kurchum\n",
      "Processing Record 349 of Set 1 | lorengau\n",
      "Processing Record 350 of Set 1 | chapais\n",
      "Processing Record 351 of Set 1 | tres arroyos\n",
      "Processing Record 352 of Set 1 | alamosa\n",
      "Processing Record 353 of Set 1 | ahipara\n",
      "Processing Record 354 of Set 1 | matara\n",
      "City not found. Skipping...\n",
      "Processing Record 356 of Set 1 | ballina\n",
      "Processing Record 357 of Set 1 | caravelas\n",
      "Processing Record 358 of Set 1 | kulhudhuffushi\n",
      "Processing Record 359 of Set 1 | filingue\n",
      "Processing Record 360 of Set 1 | greytown\n",
      "Processing Record 361 of Set 1 | si racha\n",
      "Processing Record 362 of Set 1 | luganville\n",
      "Processing Record 363 of Set 1 | komsomolets\n",
      "City not found. Skipping...\n",
      "Processing Record 365 of Set 1 | aklavik\n",
      "Processing Record 366 of Set 1 | ulaanbaatar\n",
      "Processing Record 367 of Set 1 | kikwit\n",
      "City not found. Skipping...\n",
      "Processing Record 369 of Set 1 | labuhan\n",
      "Processing Record 370 of Set 1 | sosnogorsk\n",
      "Processing Record 371 of Set 1 | itupiranga\n",
      "Processing Record 372 of Set 1 | along\n",
      "Processing Record 373 of Set 1 | moree\n",
      "Processing Record 374 of Set 1 | mogadishu\n",
      "City not found. Skipping...\n",
      "Processing Record 376 of Set 1 | general pico\n",
      "Processing Record 377 of Set 1 | inuvik\n",
      "Processing Record 378 of Set 1 | kutum\n",
      "City not found. Skipping...\n",
      "Processing Record 380 of Set 1 | axim\n",
      "Processing Record 381 of Set 1 | roald\n",
      "Processing Record 382 of Set 1 | oksfjord\n",
      "Processing Record 383 of Set 1 | xichang\n",
      "Processing Record 384 of Set 1 | lesnoy\n",
      "Processing Record 385 of Set 1 | port macquarie\n",
      "Processing Record 386 of Set 1 | satun\n",
      "Processing Record 387 of Set 1 | karratha\n",
      "Processing Record 388 of Set 1 | santiago del estero\n",
      "Processing Record 389 of Set 1 | santa rosalia\n",
      "Processing Record 390 of Set 1 | broome\n",
      "Processing Record 391 of Set 1 | kangaatsiaq\n",
      "Processing Record 392 of Set 1 | barra do garcas\n",
      "Processing Record 393 of Set 1 | millinocket\n",
      "Processing Record 394 of Set 1 | araouane\n",
      "Processing Record 395 of Set 1 | nyurba\n",
      "Processing Record 396 of Set 1 | comodoro rivadavia\n",
      "Processing Record 397 of Set 1 | grindavik\n",
      "Processing Record 398 of Set 1 | mitsamiouli\n",
      "Processing Record 399 of Set 1 | baoding\n",
      "Processing Record 400 of Set 1 | tomatlan\n",
      "Processing Record 401 of Set 1 | pringsewu\n",
      "Processing Record 402 of Set 1 | darhan\n"
     ]
    },
    {
     "name": "stdout",
     "output_type": "stream",
     "text": [
      "Processing Record 403 of Set 1 | freeport\n",
      "Processing Record 404 of Set 1 | salinopolis\n",
      "Processing Record 405 of Set 1 | krasnoselkup\n",
      "Processing Record 406 of Set 1 | olinda\n",
      "Processing Record 407 of Set 1 | ambon\n",
      "Processing Record 408 of Set 1 | reyes\n",
      "Processing Record 409 of Set 1 | ilulissat\n",
      "Processing Record 410 of Set 1 | balintore\n",
      "Processing Record 411 of Set 1 | neopolis\n",
      "Processing Record 412 of Set 1 | kaitangata\n",
      "City not found. Skipping...\n",
      "Processing Record 414 of Set 1 | sokoni\n",
      "Processing Record 415 of Set 1 | avila\n",
      "Processing Record 416 of Set 1 | camacha\n",
      "Processing Record 417 of Set 1 | magistralnyy\n",
      "Processing Record 418 of Set 1 | kapit\n",
      "Processing Record 419 of Set 1 | hovd\n",
      "Processing Record 420 of Set 1 | merzifon\n",
      "Processing Record 421 of Set 1 | tungor\n",
      "City not found. Skipping...\n",
      "Processing Record 423 of Set 1 | ciudad bolivar\n",
      "Processing Record 424 of Set 1 | nouakchott\n",
      "Processing Record 425 of Set 1 | rodrigues alves\n",
      "Processing Record 426 of Set 1 | port hardy\n",
      "Processing Record 427 of Set 1 | bolobo\n",
      "City not found. Skipping...\n",
      "Processing Record 429 of Set 1 | kalga\n",
      "Processing Record 430 of Set 1 | rocha\n",
      "Processing Record 431 of Set 1 | shimoda\n",
      "Processing Record 432 of Set 1 | sistranda\n",
      "Processing Record 433 of Set 1 | saint-augustin\n",
      "Processing Record 434 of Set 1 | emerald\n",
      "Processing Record 435 of Set 1 | kieta\n",
      "Processing Record 436 of Set 1 | tocopilla\n",
      "Processing Record 437 of Set 1 | walvis bay\n",
      "Processing Record 438 of Set 1 | seminole\n",
      "Processing Record 439 of Set 1 | saint-francois\n",
      "Processing Record 440 of Set 1 | bull savanna\n",
      "Processing Record 441 of Set 1 | san juan\n",
      "Processing Record 442 of Set 1 | vryburg\n",
      "Processing Record 443 of Set 1 | apache junction\n",
      "City not found. Skipping...\n",
      "Processing Record 445 of Set 1 | suda\n",
      "Processing Record 446 of Set 1 | kalmar\n",
      "Processing Record 447 of Set 1 | kaka\n",
      "City not found. Skipping...\n",
      "Processing Record 449 of Set 1 | abnub\n",
      "Processing Record 450 of Set 1 | broken hill\n",
      "Processing Record 451 of Set 1 | derzhavinsk\n",
      "City not found. Skipping...\n",
      "Processing Record 453 of Set 1 | santa teresa\n",
      "Processing Record 454 of Set 1 | onega\n",
      "Processing Record 455 of Set 1 | sovetskiy\n",
      "Processing Record 456 of Set 1 | villa rica\n",
      "City not found. Skipping...\n",
      "Processing Record 458 of Set 1 | vavuniya\n",
      "Processing Record 459 of Set 1 | mikuni\n",
      "Processing Record 460 of Set 1 | jatara\n",
      "City not found. Skipping...\n",
      "Processing Record 462 of Set 1 | batticaloa\n",
      "City not found. Skipping...\n",
      "Processing Record 464 of Set 1 | greer\n",
      "Processing Record 465 of Set 1 | guarapari\n",
      "Processing Record 466 of Set 1 | vestmannaeyjar\n",
      "Processing Record 467 of Set 1 | porto novo\n",
      "Processing Record 468 of Set 1 | brookhaven\n",
      "Processing Record 469 of Set 1 | zhigansk\n",
      "Processing Record 470 of Set 1 | arriana\n",
      "City not found. Skipping...\n",
      "Processing Record 472 of Set 1 | mochudi\n",
      "Processing Record 473 of Set 1 | kelso\n",
      "Processing Record 474 of Set 1 | tromso\n",
      "Processing Record 475 of Set 1 | ulladulla\n",
      "City not found. Skipping...\n",
      "Processing Record 477 of Set 1 | provideniya\n",
      "Processing Record 478 of Set 1 | meadow lake\n",
      "Processing Record 479 of Set 1 | aykhal\n",
      "Processing Record 480 of Set 1 | ulaangom\n",
      "Processing Record 481 of Set 1 | queanbeyan\n",
      "Processing Record 482 of Set 1 | puerto rico\n",
      "Processing Record 483 of Set 1 | anicuns\n",
      "Processing Record 484 of Set 1 | neyshabur\n",
      "Processing Record 485 of Set 1 | banjar\n",
      "Processing Record 486 of Set 1 | gat\n",
      "Processing Record 487 of Set 1 | necochea\n",
      "Processing Record 488 of Set 1 | banda aceh\n",
      "Processing Record 489 of Set 1 | kununurra\n",
      "Processing Record 490 of Set 1 | madimba\n",
      "Processing Record 491 of Set 1 | novyy urengoy\n",
      "Processing Record 492 of Set 1 | souris\n",
      "Processing Record 493 of Set 1 | saravena\n",
      "Processing Record 494 of Set 1 | concepcion del oro\n",
      "Processing Record 495 of Set 1 | emba\n",
      "Processing Record 496 of Set 1 | amahai\n",
      "Processing Record 497 of Set 1 | khandyga\n",
      "Processing Record 498 of Set 1 | tigil\n",
      "Processing Record 499 of Set 1 | lompoc\n",
      "Processing Record 500 of Set 1 | canutama\n",
      "Processing Record 501 of Set 1 | lasa\n",
      "Processing Record 502 of Set 1 | adrar\n",
      "Processing Record 503 of Set 1 | shumyachi\n",
      "Processing Record 504 of Set 1 | fernley\n",
      "Processing Record 505 of Set 1 | madera\n",
      "Processing Record 506 of Set 1 | obama\n",
      "City not found. Skipping...\n",
      "Processing Record 508 of Set 1 | karlovo\n",
      "Processing Record 509 of Set 1 | pankovka\n",
      "City not found. Skipping...\n",
      "Processing Record 511 of Set 1 | mahenge\n",
      "Processing Record 512 of Set 1 | shache\n",
      "Processing Record 513 of Set 1 | altay\n",
      "Processing Record 514 of Set 1 | usinsk\n",
      "Processing Record 515 of Set 1 | la ronge\n",
      "Processing Record 516 of Set 1 | ventersburg\n",
      "Processing Record 517 of Set 1 | atambua\n",
      "Processing Record 518 of Set 1 | isabela\n",
      "City not found. Skipping...\n",
      "Processing Record 520 of Set 1 | meulaboh\n",
      "Processing Record 521 of Set 1 | huilong\n",
      "Processing Record 522 of Set 1 | vardo\n",
      "Processing Record 523 of Set 1 | bara\n",
      "Processing Record 524 of Set 1 | sojat\n",
      "Processing Record 525 of Set 1 | srednekolymsk\n",
      "Processing Record 526 of Set 1 | sao lourenco da serra\n",
      "Processing Record 527 of Set 1 | steinbach\n",
      "Processing Record 528 of Set 1 | hasaki\n",
      "Processing Record 529 of Set 1 | college\n",
      "Processing Record 530 of Set 1 | komsomolskiy\n",
      "Processing Record 531 of Set 1 | iqaluit\n",
      "Processing Record 532 of Set 1 | chiredzi\n",
      "Processing Record 533 of Set 1 | ust-kuyga\n",
      "Processing Record 534 of Set 1 | cosenza\n",
      "Processing Record 535 of Set 1 | yar-sale\n",
      "City not found. Skipping...\n",
      "Processing Record 537 of Set 1 | cap-aux-meules\n",
      "Processing Record 538 of Set 1 | frome\n",
      "Processing Record 539 of Set 1 | ambilobe\n",
      "Processing Record 540 of Set 1 | yenagoa\n",
      "Processing Record 541 of Set 1 | budogoshch\n",
      "Processing Record 542 of Set 1 | ayan\n",
      "Processing Record 543 of Set 1 | valdez\n",
      "Processing Record 544 of Set 1 | maniwaki\n",
      "Processing Record 545 of Set 1 | esperance\n",
      "Processing Record 546 of Set 1 | alice springs\n",
      "Processing Record 547 of Set 1 | utete\n",
      "Processing Record 548 of Set 1 | waipawa\n",
      "Processing Record 549 of Set 1 | turukhansk\n",
      "Processing Record 550 of Set 1 | ust-omchug\n",
      "Processing Record 551 of Set 1 | ouadda\n",
      "Processing Record 552 of Set 1 | were ilu\n",
      "Processing Record 553 of Set 1 | bayir\n",
      "City not found. Skipping...\n",
      "Processing Record 555 of Set 1 | khanpur\n",
      "Processing Record 556 of Set 1 | hambantota\n",
      "Processing Record 557 of Set 1 | bangui\n",
      "Processing Record 558 of Set 1 | arawa\n",
      "Processing Record 559 of Set 1 | touros\n",
      "Processing Record 560 of Set 1 | moranbah\n",
      "Processing Record 561 of Set 1 | karakol\n",
      "Processing Record 562 of Set 1 | jiaozuo\n",
      "Processing Record 563 of Set 1 | rovaniemi\n",
      "Processing Record 564 of Set 1 | warmbad\n",
      "Processing Record 565 of Set 1 | dehloran\n",
      "Processing Record 566 of Set 1 | gribanovskiy\n",
      "Processing Record 567 of Set 1 | serebryansk\n",
      "Processing Record 568 of Set 1 | krasnyy chikoy\n",
      "Processing Record 569 of Set 1 | prince rupert\n",
      "Processing Record 570 of Set 1 | general roca\n",
      "Processing Record 571 of Set 1 | bechem\n",
      "Processing Record 572 of Set 1 | guangshui\n",
      "Processing Record 573 of Set 1 | suining\n",
      "Processing Record 574 of Set 1 | seoul\n",
      "Processing Record 575 of Set 1 | camopi\n",
      "Processing Record 576 of Set 1 | algiers\n",
      "Processing Record 577 of Set 1 | savinskiy\n",
      "Processing Record 578 of Set 1 | antofagasta\n",
      "Processing Record 579 of Set 1 | teguise\n",
      "Processing Record 580 of Set 1 | fortuna\n",
      "Processing Record 581 of Set 1 | istok\n",
      "Processing Record 582 of Set 1 | roros\n",
      "Processing Record 583 of Set 1 | pirgos\n",
      "Processing Record 584 of Set 1 | hokitika\n",
      "Processing Record 585 of Set 1 | ghanzi\n",
      "Processing Record 586 of Set 1 | balakhta\n",
      "Processing Record 587 of Set 1 | troitsko-pechorsk\n",
      "Processing Record 588 of Set 1 | trat\n",
      "City not found. Skipping...\n",
      "Processing Record 590 of Set 1 | lasem\n",
      "Processing Record 591 of Set 1 | khombole\n",
      "Processing Record 592 of Set 1 | poum\n",
      "Processing Record 593 of Set 1 | krasnovishersk\n",
      "Processing Record 594 of Set 1 | semirom\n",
      "Processing Record 595 of Set 1 | khudumelapye\n",
      "Processing Record 596 of Set 1 | pantai remis\n",
      "Processing Record 597 of Set 1 | vitim\n",
      "Processing Record 598 of Set 1 | puerto colombia\n",
      "Processing Record 599 of Set 1 | hay river\n",
      "Processing Record 600 of Set 1 | mendi\n",
      "Processing Record 601 of Set 1 | cajamarca\n",
      "Processing Record 602 of Set 1 | ambunti\n",
      "Processing Record 603 of Set 1 | nicoya\n"
     ]
    },
    {
     "name": "stdout",
     "output_type": "stream",
     "text": [
      "Processing Record 604 of Set 1 | druskininkai\n",
      "Processing Record 605 of Set 1 | alyangula\n",
      "Processing Record 606 of Set 1 | marana\n",
      "Processing Record 607 of Set 1 | gambela\n",
      "Processing Record 608 of Set 1 | manaure\n",
      "Processing Record 609 of Set 1 | samarai\n",
      "Processing Record 610 of Set 1 | alindao\n",
      "Processing Record 611 of Set 1 | montevideo\n",
      "Processing Record 612 of Set 1 | monywa\n",
      "Processing Record 613 of Set 1 | ilhabela\n",
      "Processing Record 614 of Set 1 | rio branco\n",
      "Processing Record 615 of Set 1 | bani walid\n",
      "Processing Record 616 of Set 1 | cazones\n",
      "Processing Record 617 of Set 1 | jizan\n",
      "Processing Record 618 of Set 1 | maceio\n",
      "Processing Record 619 of Set 1 | quatre cocos\n",
      "Processing Record 620 of Set 1 | baiyin\n",
      "Processing Record 621 of Set 1 | buin\n",
      "Processing Record 622 of Set 1 | toropets\n",
      "Processing Record 623 of Set 1 | yerofey pavlovich\n",
      "Processing Record 624 of Set 1 | aksu\n",
      "Processing Record 625 of Set 1 | muros\n",
      "Processing Record 626 of Set 1 | kysyl-syr\n",
      "Processing Record 627 of Set 1 | linxia\n",
      "------------------------------\n",
      "Data Retrieval Complete\n",
      "------------------------------\n"
     ]
    }
   ],
   "source": [
    "# Starting URL for Weather Map API Call\n",
    "url = \"http://api.openweathermap.org/data/2.5/weather?units=Imperial&APPID=\" + weather_api_key\n",
    "\n",
    "\n",
    "#Create empty lists to hold results\n",
    "city_data=[]\n",
    "\n",
    "record = 1\n",
    "set = 1\n",
    "\n",
    "# Log file print statement\n",
    "print(f\"Beginning Data Retrieval\")\n",
    "print(f\"-------------------------------\")\n",
    "\n",
    "for i,city in enumerate(cities):\n",
    "    if (i%50==0 & i>50):\n",
    "            record=0\n",
    "            set+=1\n",
    "    record+=1\n",
    "    try:\n",
    "        response = requests.get(f\"{url}&q={city}\").json() \n",
    "        lat=response[\"coord\"][\"lat\"]\n",
    "        long=response[\"coord\"][\"lon\"]\n",
    "        max_temp=response[\"main\"][\"temp_max\"]\n",
    "        humidity=response[\"main\"][\"humidity\"]\n",
    "        cloudiness=response[\"clouds\"][\"all\"]\n",
    "        wind_speed=response[\"wind\"][\"speed\"]\n",
    "        country=response[\"sys\"][\"country\"]\n",
    "        date=response[\"dt\"]\n",
    "        city_data.append([city, lat, long, max_temp, humidity, cloudiness, wind_speed, country, date])\n",
    "        time.sleep(.2)\n",
    "        \n",
    "        print(f\"Processing Record {record} of Set {set} | {city}\")\n",
    "    except(KeyError, IndexError):\n",
    "         print(\"City not found. Skipping...\")\n",
    "print(\"------------------------------\\nData Retrieval Complete\\n------------------------------\")"
   ]
  },
  {
   "cell_type": "markdown",
   "metadata": {},
   "source": [
    "### Convert Raw Data to DataFrame\n",
    "* Export the city data into a .csv.\n",
    "* Display the DataFrame"
   ]
  },
  {
   "cell_type": "code",
   "execution_count": 13,
   "metadata": {},
   "outputs": [
    {
     "data": {
      "text/html": [
       "<div>\n",
       "<style scoped>\n",
       "    .dataframe tbody tr th:only-of-type {\n",
       "        vertical-align: middle;\n",
       "    }\n",
       "\n",
       "    .dataframe tbody tr th {\n",
       "        vertical-align: top;\n",
       "    }\n",
       "\n",
       "    .dataframe thead th {\n",
       "        text-align: right;\n",
       "    }\n",
       "</style>\n",
       "<table border=\"1\" class=\"dataframe\">\n",
       "  <thead>\n",
       "    <tr style=\"text-align: right;\">\n",
       "      <th></th>\n",
       "      <th>City</th>\n",
       "      <th>Lat</th>\n",
       "      <th>Long</th>\n",
       "      <th>Max Temp</th>\n",
       "      <th>Humidity</th>\n",
       "      <th>Cloudiness</th>\n",
       "      <th>Wind Speed</th>\n",
       "      <th>Country</th>\n",
       "      <th>Date</th>\n",
       "    </tr>\n",
       "  </thead>\n",
       "  <tbody>\n",
       "    <tr>\n",
       "      <th>0</th>\n",
       "      <td>katsuura</td>\n",
       "      <td>35.1333</td>\n",
       "      <td>140.3000</td>\n",
       "      <td>71.19</td>\n",
       "      <td>95</td>\n",
       "      <td>100</td>\n",
       "      <td>15.12</td>\n",
       "      <td>JP</td>\n",
       "      <td>1625426941</td>\n",
       "    </tr>\n",
       "    <tr>\n",
       "      <th>1</th>\n",
       "      <td>ponta do sol</td>\n",
       "      <td>32.6667</td>\n",
       "      <td>-17.1000</td>\n",
       "      <td>74.03</td>\n",
       "      <td>81</td>\n",
       "      <td>0</td>\n",
       "      <td>5.32</td>\n",
       "      <td>PT</td>\n",
       "      <td>1625426941</td>\n",
       "    </tr>\n",
       "    <tr>\n",
       "      <th>2</th>\n",
       "      <td>causapscal</td>\n",
       "      <td>48.3542</td>\n",
       "      <td>-67.2270</td>\n",
       "      <td>70.03</td>\n",
       "      <td>44</td>\n",
       "      <td>100</td>\n",
       "      <td>4.65</td>\n",
       "      <td>CA</td>\n",
       "      <td>1625426942</td>\n",
       "    </tr>\n",
       "    <tr>\n",
       "      <th>3</th>\n",
       "      <td>kapaa</td>\n",
       "      <td>22.0752</td>\n",
       "      <td>-159.3190</td>\n",
       "      <td>80.92</td>\n",
       "      <td>77</td>\n",
       "      <td>75</td>\n",
       "      <td>5.01</td>\n",
       "      <td>US</td>\n",
       "      <td>1625426942</td>\n",
       "    </tr>\n",
       "    <tr>\n",
       "      <th>4</th>\n",
       "      <td>manokwari</td>\n",
       "      <td>-0.8667</td>\n",
       "      <td>134.0833</td>\n",
       "      <td>77.54</td>\n",
       "      <td>84</td>\n",
       "      <td>100</td>\n",
       "      <td>5.91</td>\n",
       "      <td>ID</td>\n",
       "      <td>1625426943</td>\n",
       "    </tr>\n",
       "  </tbody>\n",
       "</table>\n",
       "</div>"
      ],
      "text/plain": [
       "           City      Lat      Long  Max Temp  Humidity  Cloudiness  \\\n",
       "0      katsuura  35.1333  140.3000     71.19        95         100   \n",
       "1  ponta do sol  32.6667  -17.1000     74.03        81           0   \n",
       "2    causapscal  48.3542  -67.2270     70.03        44         100   \n",
       "3         kapaa  22.0752 -159.3190     80.92        77          75   \n",
       "4     manokwari  -0.8667  134.0833     77.54        84         100   \n",
       "\n",
       "   Wind Speed Country        Date  \n",
       "0       15.12      JP  1625426941  \n",
       "1        5.32      PT  1625426941  \n",
       "2        4.65      CA  1625426942  \n",
       "3        5.01      US  1625426942  \n",
       "4        5.91      ID  1625426943  "
      ]
     },
     "execution_count": 13,
     "metadata": {},
     "output_type": "execute_result"
    }
   ],
   "source": [
    "# Convert array of JSONs into Pandas DataFrame\n",
    "weather_df = pd.DataFrame(city_data,columns=[\"City\", \"Lat\", \"Long\", \"Max Temp\", \"Humidity\", \"Cloudiness\", \"Wind Speed\", \"Country\", \"Date\"])\n",
    "\n",
    "#display dataframe\n",
    "weather_df.head()"
   ]
  },
  {
   "cell_type": "code",
   "execution_count": null,
   "metadata": {},
   "outputs": [],
   "source": []
  },
  {
   "cell_type": "code",
   "execution_count": 14,
   "metadata": {},
   "outputs": [],
   "source": [
    "#Convert to CSV\n",
    "weather_df.to_csv(\"weatherpy.csv\", index=False)"
   ]
  },
  {
   "cell_type": "markdown",
   "metadata": {},
   "source": [
    "## Inspect the data and remove the cities where the humidity > 100%.\n",
    "----\n",
    "Skip this step if there are no cities that have humidity > 100%. "
   ]
  },
  {
   "cell_type": "code",
   "execution_count": 17,
   "metadata": {
    "scrolled": true
   },
   "outputs": [
    {
     "data": {
      "text/html": [
       "<div>\n",
       "<style scoped>\n",
       "    .dataframe tbody tr th:only-of-type {\n",
       "        vertical-align: middle;\n",
       "    }\n",
       "\n",
       "    .dataframe tbody tr th {\n",
       "        vertical-align: top;\n",
       "    }\n",
       "\n",
       "    .dataframe thead th {\n",
       "        text-align: right;\n",
       "    }\n",
       "</style>\n",
       "<table border=\"1\" class=\"dataframe\">\n",
       "  <thead>\n",
       "    <tr style=\"text-align: right;\">\n",
       "      <th></th>\n",
       "      <th>Lat</th>\n",
       "      <th>Long</th>\n",
       "      <th>Max Temp</th>\n",
       "      <th>Humidity</th>\n",
       "      <th>Cloudiness</th>\n",
       "      <th>Wind Speed</th>\n",
       "      <th>Date</th>\n",
       "    </tr>\n",
       "  </thead>\n",
       "  <tbody>\n",
       "    <tr>\n",
       "      <th>count</th>\n",
       "      <td>574.000000</td>\n",
       "      <td>574.000000</td>\n",
       "      <td>574.000000</td>\n",
       "      <td>574.000000</td>\n",
       "      <td>574.000000</td>\n",
       "      <td>574.000000</td>\n",
       "      <td>5.740000e+02</td>\n",
       "    </tr>\n",
       "    <tr>\n",
       "      <th>mean</th>\n",
       "      <td>18.557339</td>\n",
       "      <td>21.826700</td>\n",
       "      <td>68.758885</td>\n",
       "      <td>69.820557</td>\n",
       "      <td>50.421603</td>\n",
       "      <td>7.222561</td>\n",
       "      <td>1.625427e+09</td>\n",
       "    </tr>\n",
       "    <tr>\n",
       "      <th>std</th>\n",
       "      <td>34.709971</td>\n",
       "      <td>90.961790</td>\n",
       "      <td>14.522428</td>\n",
       "      <td>20.807625</td>\n",
       "      <td>39.797304</td>\n",
       "      <td>5.196715</td>\n",
       "      <td>1.008012e+02</td>\n",
       "    </tr>\n",
       "    <tr>\n",
       "      <th>min</th>\n",
       "      <td>-54.800000</td>\n",
       "      <td>-179.166700</td>\n",
       "      <td>33.820000</td>\n",
       "      <td>7.000000</td>\n",
       "      <td>0.000000</td>\n",
       "      <td>0.000000</td>\n",
       "      <td>1.625427e+09</td>\n",
       "    </tr>\n",
       "    <tr>\n",
       "      <th>25%</th>\n",
       "      <td>-11.858700</td>\n",
       "      <td>-61.722425</td>\n",
       "      <td>58.600000</td>\n",
       "      <td>57.250000</td>\n",
       "      <td>7.000000</td>\n",
       "      <td>3.565000</td>\n",
       "      <td>1.625427e+09</td>\n",
       "    </tr>\n",
       "    <tr>\n",
       "      <th>50%</th>\n",
       "      <td>22.095950</td>\n",
       "      <td>26.903850</td>\n",
       "      <td>69.990000</td>\n",
       "      <td>74.000000</td>\n",
       "      <td>47.000000</td>\n",
       "      <td>5.750000</td>\n",
       "      <td>1.625427e+09</td>\n",
       "    </tr>\n",
       "    <tr>\n",
       "      <th>75%</th>\n",
       "      <td>49.594400</td>\n",
       "      <td>104.104125</td>\n",
       "      <td>78.995000</td>\n",
       "      <td>87.000000</td>\n",
       "      <td>92.750000</td>\n",
       "      <td>9.735000</td>\n",
       "      <td>1.625427e+09</td>\n",
       "    </tr>\n",
       "    <tr>\n",
       "      <th>max</th>\n",
       "      <td>78.218600</td>\n",
       "      <td>179.316700</td>\n",
       "      <td>100.870000</td>\n",
       "      <td>100.000000</td>\n",
       "      <td>100.000000</td>\n",
       "      <td>30.220000</td>\n",
       "      <td>1.625427e+09</td>\n",
       "    </tr>\n",
       "  </tbody>\n",
       "</table>\n",
       "</div>"
      ],
      "text/plain": [
       "              Lat        Long    Max Temp    Humidity  Cloudiness  Wind Speed  \\\n",
       "count  574.000000  574.000000  574.000000  574.000000  574.000000  574.000000   \n",
       "mean    18.557339   21.826700   68.758885   69.820557   50.421603    7.222561   \n",
       "std     34.709971   90.961790   14.522428   20.807625   39.797304    5.196715   \n",
       "min    -54.800000 -179.166700   33.820000    7.000000    0.000000    0.000000   \n",
       "25%    -11.858700  -61.722425   58.600000   57.250000    7.000000    3.565000   \n",
       "50%     22.095950   26.903850   69.990000   74.000000   47.000000    5.750000   \n",
       "75%     49.594400  104.104125   78.995000   87.000000   92.750000    9.735000   \n",
       "max     78.218600  179.316700  100.870000  100.000000  100.000000   30.220000   \n",
       "\n",
       "               Date  \n",
       "count  5.740000e+02  \n",
       "mean   1.625427e+09  \n",
       "std    1.008012e+02  \n",
       "min    1.625427e+09  \n",
       "25%    1.625427e+09  \n",
       "50%    1.625427e+09  \n",
       "75%    1.625427e+09  \n",
       "max    1.625427e+09  "
      ]
     },
     "execution_count": 17,
     "metadata": {},
     "output_type": "execute_result"
    }
   ],
   "source": [
    "weather_df.describe()"
   ]
  },
  {
   "cell_type": "code",
   "execution_count": 18,
   "metadata": {},
   "outputs": [
    {
     "data": {
      "text/plain": [
       "Int64Index([], dtype='int64')"
      ]
     },
     "execution_count": 18,
     "metadata": {},
     "output_type": "execute_result"
    }
   ],
   "source": [
    "#  Get the indices of cities that have humidity over 100%.\n",
    "dirty_city_data = weather_df[(weather_df[\"Humidity\"] > 100)].index\n",
    "                                  \n",
    "dirty_city_data"
   ]
  },
  {
   "cell_type": "code",
   "execution_count": 19,
   "metadata": {},
   "outputs": [
    {
     "data": {
      "text/html": [
       "<div>\n",
       "<style scoped>\n",
       "    .dataframe tbody tr th:only-of-type {\n",
       "        vertical-align: middle;\n",
       "    }\n",
       "\n",
       "    .dataframe tbody tr th {\n",
       "        vertical-align: top;\n",
       "    }\n",
       "\n",
       "    .dataframe thead th {\n",
       "        text-align: right;\n",
       "    }\n",
       "</style>\n",
       "<table border=\"1\" class=\"dataframe\">\n",
       "  <thead>\n",
       "    <tr style=\"text-align: right;\">\n",
       "      <th></th>\n",
       "      <th>City</th>\n",
       "      <th>Lat</th>\n",
       "      <th>Long</th>\n",
       "      <th>Max Temp</th>\n",
       "      <th>Humidity</th>\n",
       "      <th>Cloudiness</th>\n",
       "      <th>Wind Speed</th>\n",
       "      <th>Country</th>\n",
       "      <th>Date</th>\n",
       "    </tr>\n",
       "  </thead>\n",
       "  <tbody>\n",
       "    <tr>\n",
       "      <th>0</th>\n",
       "      <td>katsuura</td>\n",
       "      <td>35.1333</td>\n",
       "      <td>140.3000</td>\n",
       "      <td>71.19</td>\n",
       "      <td>95</td>\n",
       "      <td>100</td>\n",
       "      <td>15.12</td>\n",
       "      <td>JP</td>\n",
       "      <td>1625426941</td>\n",
       "    </tr>\n",
       "    <tr>\n",
       "      <th>1</th>\n",
       "      <td>ponta do sol</td>\n",
       "      <td>32.6667</td>\n",
       "      <td>-17.1000</td>\n",
       "      <td>74.03</td>\n",
       "      <td>81</td>\n",
       "      <td>0</td>\n",
       "      <td>5.32</td>\n",
       "      <td>PT</td>\n",
       "      <td>1625426941</td>\n",
       "    </tr>\n",
       "    <tr>\n",
       "      <th>2</th>\n",
       "      <td>causapscal</td>\n",
       "      <td>48.3542</td>\n",
       "      <td>-67.2270</td>\n",
       "      <td>70.03</td>\n",
       "      <td>44</td>\n",
       "      <td>100</td>\n",
       "      <td>4.65</td>\n",
       "      <td>CA</td>\n",
       "      <td>1625426942</td>\n",
       "    </tr>\n",
       "    <tr>\n",
       "      <th>3</th>\n",
       "      <td>kapaa</td>\n",
       "      <td>22.0752</td>\n",
       "      <td>-159.3190</td>\n",
       "      <td>80.92</td>\n",
       "      <td>77</td>\n",
       "      <td>75</td>\n",
       "      <td>5.01</td>\n",
       "      <td>US</td>\n",
       "      <td>1625426942</td>\n",
       "    </tr>\n",
       "    <tr>\n",
       "      <th>4</th>\n",
       "      <td>manokwari</td>\n",
       "      <td>-0.8667</td>\n",
       "      <td>134.0833</td>\n",
       "      <td>77.54</td>\n",
       "      <td>84</td>\n",
       "      <td>100</td>\n",
       "      <td>5.91</td>\n",
       "      <td>ID</td>\n",
       "      <td>1625426943</td>\n",
       "    </tr>\n",
       "  </tbody>\n",
       "</table>\n",
       "</div>"
      ],
      "text/plain": [
       "           City      Lat      Long  Max Temp  Humidity  Cloudiness  \\\n",
       "0      katsuura  35.1333  140.3000     71.19        95         100   \n",
       "1  ponta do sol  32.6667  -17.1000     74.03        81           0   \n",
       "2    causapscal  48.3542  -67.2270     70.03        44         100   \n",
       "3         kapaa  22.0752 -159.3190     80.92        77          75   \n",
       "4     manokwari  -0.8667  134.0833     77.54        84         100   \n",
       "\n",
       "   Wind Speed Country        Date  \n",
       "0       15.12      JP  1625426941  \n",
       "1        5.32      PT  1625426941  \n",
       "2        4.65      CA  1625426942  \n",
       "3        5.01      US  1625426942  \n",
       "4        5.91      ID  1625426943  "
      ]
     },
     "execution_count": 19,
     "metadata": {},
     "output_type": "execute_result"
    }
   ],
   "source": [
    "# Make a new DataFrame equal to the city data to drop all humidity outliers by index.\n",
    "# Passing \"inplace=False\" will make a copy of the city_data DataFrame, which we call \"clean_city_data\".\n",
    "clean_city_data = weather_df.drop(dirty_city_data, inplace=False)\n",
    "clean_city_data.head() "
   ]
  },
  {
   "cell_type": "code",
   "execution_count": 20,
   "metadata": {},
   "outputs": [],
   "source": [
    "# Extract relevant fields from the data frame\n",
    "lats = clean_city_data[\"Lat\"]\n",
    "max_temps = clean_city_data[\"Max Temp\"]\n",
    "humidity = clean_city_data[\"Humidity\"]\n",
    "cloudiness = clean_city_data[\"Cloudiness\"]\n",
    "wind_speed = clean_city_data[\"Wind Speed\"]\n",
    "\n",
    "# Export the City_Data into a csv\n",
    "clean_city_data.to_csv(output_data_file, index_label=\"City_ID\")"
   ]
  },
  {
   "cell_type": "markdown",
   "metadata": {},
   "source": [
    "## Plotting the Data\n",
    "* Use proper labeling of the plots using plot titles (including date of analysis) and axes labels.\n",
    "* Save the plotted figures as .pngs."
   ]
  },
  {
   "cell_type": "markdown",
   "metadata": {},
   "source": [
    "## Latitude vs. Temperature Plot"
   ]
  },
  {
   "cell_type": "code",
   "execution_count": 27,
   "metadata": {
    "scrolled": true
   },
   "outputs": [
    {
     "data": {
      "image/png": "[encoded data removed]",
      "text/plain": [
       "<Figure size 432x288 with 1 Axes>"
      ]
     },
     "metadata": {
      "needs_background": "light"
     },
     "output_type": "display_data"
    }
   ],
   "source": [
    "plt.scatter(weather_df[\"Lat\"],weather_df[\"Max Temp\"],edgecolors=\"black\",facecolors=\"skyblue\")\n",
    "plt.title(\"City Latitude vs. Max Temperature\")\n",
    "plt.xlabel(\"Latitude\")\n",
    "plt.ylabel(\"Max Temperature (F)\")\n",
    "plt.grid (b=True,which=\"major\",axis=\"both\",linestyle=\"-\",color=\"lightgrey\")\n",
    "plt.savefig(\"fig1.png\")\n",
    "plt.show()"
   ]
  },
  {
   "cell_type": "markdown",
   "metadata": {},
   "source": [
    "## Latitude vs. Humidity Plot"
   ]
  },
  {
   "cell_type": "code",
   "execution_count": 28,
   "metadata": {},
   "outputs": [
    {
     "data": {
      "image/png": "[encoded data removed]",
      "text/plain": [
       "<Figure size 432x288 with 1 Axes>"
      ]
     },
     "metadata": {
      "needs_background": "light"
     },
     "output_type": "display_data"
    }
   ],
   "source": [
    "plt.scatter(weather_df[\"Lat\"],weather_df[\"Humidity\"],edgecolors=\"black\",facecolors=\"salmon\")\n",
    "plt.title(\"City Latitude vs. Humidity\")\n",
    "plt.xlabel(\"Latitude\")\n",
    "plt.ylabel(\"Humidity (%)\")\n",
    "plt.ylim(15,105)\n",
    "plt.grid (b=True,which=\"major\",axis=\"both\",linestyle=\"-\",color=\"lightgrey\")\n",
    "plt.savefig(\"fig2.png\")\n",
    "plt.show()"
   ]
  },
  {
   "cell_type": "markdown",
   "metadata": {},
   "source": [
    "## Latitude vs. Cloudiness Plot"
   ]
  },
  {
   "cell_type": "code",
   "execution_count": 29,
   "metadata": {},
   "outputs": [
    {
     "data": {
      "image/png": "[encoded data removed]",
      "text/plain": [
       "<Figure size 432x288 with 1 Axes>"
      ]
     },
     "metadata": {
      "needs_background": "light"
     },
     "output_type": "display_data"
    }
   ],
   "source": [
    "plt.scatter(weather_df[\"Lat\"],weather_df[\"Cloudiness\"],edgecolors=\"black\",facecolors=\"lightgreen\")\n",
    "plt.title(\"City Latitude vs. Cloudiness\")\n",
    "plt.xlabel(\"Latitude\")\n",
    "plt.ylabel(\"Cloudiness (%)\")\n",
    "plt.grid (b=True,which=\"major\",axis=\"both\",linestyle=\"-\",color=\"lightgrey\")\n",
    "plt.savefig(\"fig3.png\")\n"
   ]
  },
  {
   "cell_type": "markdown",
   "metadata": {},
   "source": [
    "## Latitude vs. Wind Speed Plot"
   ]
  },
  {
   "cell_type": "code",
   "execution_count": 30,
   "metadata": {},
   "outputs": [
    {
     "data": {
      "image/png": "[encoded data removed]",
      "text/plain": [
       "<Figure size 432x288 with 1 Axes>"
      ]
     },
     "metadata": {
      "needs_background": "light"
     },
     "output_type": "display_data"
    }
   ],
   "source": [
    "plt.scatter(weather_df[\"Lat\"],weather_df[\"Wind Speed\"],edgecolors=\"black\",facecolors=\"mediumpurple\")\n",
    "plt.title(\"City Latitude vs. Wind Speed\")\n",
    "plt.xlabel(\"Latitude\")\n",
    "plt.ylabel(\"Wind Speed (mph)\")\n",
    "plt.ylim(-2,34)\n",
    "plt.grid (b=True,which=\"major\",axis=\"both\",linestyle=\"-\",color=\"lightgrey\")\n",
    "plt.savefig(\"fig4.png\")\n",
    "plt.show()\n"
   ]
  },
  {
   "cell_type": "markdown",
   "metadata": {},
   "source": [
    "## Linear Regression"
   ]
  },
  {
   "cell_type": "code",
   "execution_count": 31,
   "metadata": {},
   "outputs": [
    {
     "data": {
      "text/html": [
       "<div>\n",
       "<style scoped>\n",
       "    .dataframe tbody tr th:only-of-type {\n",
       "        vertical-align: middle;\n",
       "    }\n",
       "\n",
       "    .dataframe tbody tr th {\n",
       "        vertical-align: top;\n",
       "    }\n",
       "\n",
       "    .dataframe thead th {\n",
       "        text-align: right;\n",
       "    }\n",
       "</style>\n",
       "<table border=\"1\" class=\"dataframe\">\n",
       "  <thead>\n",
       "    <tr style=\"text-align: right;\">\n",
       "      <th></th>\n",
       "      <th>City</th>\n",
       "      <th>Lat</th>\n",
       "      <th>Long</th>\n",
       "      <th>Max Temp</th>\n",
       "      <th>Humidity</th>\n",
       "      <th>Cloudiness</th>\n",
       "      <th>Wind Speed</th>\n",
       "      <th>Country</th>\n",
       "      <th>Date</th>\n",
       "    </tr>\n",
       "  </thead>\n",
       "  <tbody>\n",
       "    <tr>\n",
       "      <th>0</th>\n",
       "      <td>katsuura</td>\n",
       "      <td>35.1333</td>\n",
       "      <td>140.3000</td>\n",
       "      <td>71.19</td>\n",
       "      <td>95</td>\n",
       "      <td>100</td>\n",
       "      <td>15.12</td>\n",
       "      <td>JP</td>\n",
       "      <td>1625426941</td>\n",
       "    </tr>\n",
       "    <tr>\n",
       "      <th>1</th>\n",
       "      <td>ponta do sol</td>\n",
       "      <td>32.6667</td>\n",
       "      <td>-17.1000</td>\n",
       "      <td>74.03</td>\n",
       "      <td>81</td>\n",
       "      <td>0</td>\n",
       "      <td>5.32</td>\n",
       "      <td>PT</td>\n",
       "      <td>1625426941</td>\n",
       "    </tr>\n",
       "    <tr>\n",
       "      <th>2</th>\n",
       "      <td>causapscal</td>\n",
       "      <td>48.3542</td>\n",
       "      <td>-67.2270</td>\n",
       "      <td>70.03</td>\n",
       "      <td>44</td>\n",
       "      <td>100</td>\n",
       "      <td>4.65</td>\n",
       "      <td>CA</td>\n",
       "      <td>1625426942</td>\n",
       "    </tr>\n",
       "    <tr>\n",
       "      <th>3</th>\n",
       "      <td>kapaa</td>\n",
       "      <td>22.0752</td>\n",
       "      <td>-159.3190</td>\n",
       "      <td>80.92</td>\n",
       "      <td>77</td>\n",
       "      <td>75</td>\n",
       "      <td>5.01</td>\n",
       "      <td>US</td>\n",
       "      <td>1625426942</td>\n",
       "    </tr>\n",
       "    <tr>\n",
       "      <th>6</th>\n",
       "      <td>barrow</td>\n",
       "      <td>71.2906</td>\n",
       "      <td>-156.7887</td>\n",
       "      <td>46.42</td>\n",
       "      <td>93</td>\n",
       "      <td>40</td>\n",
       "      <td>0.00</td>\n",
       "      <td>US</td>\n",
       "      <td>1625426944</td>\n",
       "    </tr>\n",
       "  </tbody>\n",
       "</table>\n",
       "</div>"
      ],
      "text/plain": [
       "           City      Lat      Long  Max Temp  Humidity  Cloudiness  \\\n",
       "0      katsuura  35.1333  140.3000     71.19        95         100   \n",
       "1  ponta do sol  32.6667  -17.1000     74.03        81           0   \n",
       "2    causapscal  48.3542  -67.2270     70.03        44         100   \n",
       "3         kapaa  22.0752 -159.3190     80.92        77          75   \n",
       "6        barrow  71.2906 -156.7887     46.42        93          40   \n",
       "\n",
       "   Wind Speed Country        Date  \n",
       "0       15.12      JP  1625426941  \n",
       "1        5.32      PT  1625426941  \n",
       "2        4.65      CA  1625426942  \n",
       "3        5.01      US  1625426942  \n",
       "6        0.00      US  1625426944  "
      ]
     },
     "execution_count": 31,
     "metadata": {},
     "output_type": "execute_result"
    }
   ],
   "source": [
    "#Define Linear Regression function\n",
    "def plot_linear_regression(x_values, y_values, title, text_coordinates):\n",
    "    (slope, intercept, rvalue, pvalue, stderr) = linregress(x_values, y_values)\n",
    "    regress_values = x_values * slope + intercept\n",
    "    line_eq = \"y = \" + str(round(slope,2)) + \"x + \" + str(round(intercept,2))\n",
    "    \n",
    "    plt.scatter(x_values,y_values)\n",
    "    plt.plot(x_values,regress_values,\"r-\")\n",
    "    plt.annotate(line_eq,text_coordinates,fontsize=14,color=\"red\")\n",
    "    plt.xlabel(\"Latitude\")\n",
    "    plt.ylabel(title)\n",
    "    print(f\"The r-squared is: {rvalue}\")\n",
    "    plt.show()\n",
    "\n",
    "# Create Northern and Southern Hemisphere DataFrames\n",
    "northlat_df = weather_df.loc[weather_df[\"Lat\"] >= 0,:]\n",
    "southlat_df = weather_df.loc[weather_df[\"Lat\"] < 0,:]\n",
    "\n",
    "northlat_df.head()\n"
   ]
  },
  {
   "cell_type": "markdown",
   "metadata": {},
   "source": [
    "####  Northern Hemisphere - Max Temp vs. Latitude Linear Regression"
   ]
  },
  {
   "cell_type": "code",
   "execution_count": 32,
   "metadata": {},
   "outputs": [
    {
     "name": "stdout",
     "output_type": "stream",
     "text": [
      "The r-squared is: -0.6954592268411427\n"
     ]
    },
    {
     "data": {
      "image/png": "[encoded data removed]",
      "text/plain": [
       "<Figure size 432x288 with 1 Axes>"
      ]
     },
     "metadata": {
      "needs_background": "light"
     },
     "output_type": "display_data"
    },
    {
     "data": {
      "text/plain": [
       "<Figure size 432x288 with 0 Axes>"
      ]
     },
     "metadata": {},
     "output_type": "display_data"
    }
   ],
   "source": [
    "#Northern Hemisphere - Max Temp vs. Latitude, Linear Regression\n",
    "x_values = northlat_df[\"Lat\"]\n",
    "y_values = northlat_df[\"Max Temp\"]\n",
    "plot_linear_regression(x_values,y_values,'Max Temp',(6,30))\n",
    "\n",
    "plt.savefig('northern_temp_lat.png')"
   ]
  },
  {
   "cell_type": "markdown",
   "metadata": {},
   "source": [
    "####  Southern Hemisphere - Max Temp vs. Latitude Linear Regression"
   ]
  },
  {
   "cell_type": "code",
   "execution_count": 34,
   "metadata": {},
   "outputs": [
    {
     "name": "stdout",
     "output_type": "stream",
     "text": [
      "The r-squared is: 0.7703626191804634\n"
     ]
    },
    {
     "data": {
      "image/png": "[encoded data removed]",
      "text/plain": [
       "<Figure size 432x288 with 1 Axes>"
      ]
     },
     "metadata": {
      "needs_background": "light"
     },
     "output_type": "display_data"
    },
    {
     "data": {
      "text/plain": [
       "<Figure size 432x288 with 0 Axes>"
      ]
     },
     "metadata": {},
     "output_type": "display_data"
    }
   ],
   "source": [
    "#Southern Hemisphere - Max Temp vs. Latitude, Linear Regression\n",
    "x_values = southlat_df[\"Lat\"]\n",
    "y_values = southlat_df[\"Max Temp\"]\n",
    "plot_linear_regression(x_values,y_values,'Max Temp',(6,30))\n",
    "\n",
    "plt.savefig('southern_temp_lat.png')\n"
   ]
  },
  {
   "cell_type": "markdown",
   "metadata": {},
   "source": [
    "####  Northern Hemisphere - Humidity (%) vs. Latitude Linear Regression"
   ]
  },
  {
   "cell_type": "code",
   "execution_count": 35,
   "metadata": {},
   "outputs": [
    {
     "name": "stdout",
     "output_type": "stream",
     "text": [
      "The r-squared is: 0.02296907584978434\n"
     ]
    },
    {
     "data": {
      "image/png": "[encoded data removed]",
      "text/plain": [
       "<Figure size 432x288 with 1 Axes>"
      ]
     },
     "metadata": {
      "needs_background": "light"
     },
     "output_type": "display_data"
    },
    {
     "data": {
      "text/plain": [
       "<Figure size 432x288 with 0 Axes>"
      ]
     },
     "metadata": {},
     "output_type": "display_data"
    }
   ],
   "source": [
    "#Northern Hemisphere - Humidity (%) vs. Latitude, Linear Regression\n",
    "x_values = northlat_df[\"Lat\"]\n",
    "y_values = northlat_df[\"Humidity\"]\n",
    "plot_linear_regression(x_values,y_values,'Humidity',(6,30))\n",
    "\n",
    "plt.savefig('northern_humid_lat.png')\n"
   ]
  },
  {
   "cell_type": "markdown",
   "metadata": {},
   "source": [
    "####  Southern Hemisphere - Humidity (%) vs. Latitude Linear Regression"
   ]
  },
  {
   "cell_type": "code",
   "execution_count": 36,
   "metadata": {},
   "outputs": [
    {
     "name": "stdout",
     "output_type": "stream",
     "text": [
      "The r-squared is: 0.053026192652100575\n"
     ]
    },
    {
     "data": {
      "image/png": "[encoded data removed]",
      "text/plain": [
       "<Figure size 432x288 with 1 Axes>"
      ]
     },
     "metadata": {
      "needs_background": "light"
     },
     "output_type": "display_data"
    },
    {
     "data": {
      "text/plain": [
       "<Figure size 432x288 with 0 Axes>"
      ]
     },
     "metadata": {},
     "output_type": "display_data"
    }
   ],
   "source": [
    "#Southern Hemisphere - Humidity (%) vs. Latitude, Linear Regression\n",
    "x_values = southlat_df[\"Lat\"]\n",
    "y_values = southlat_df[\"Humidity\"]\n",
    "plot_linear_regression(x_values,y_values,'Humidity',(6,30))\n",
    "\n",
    "plt.savefig('southern_humid_lat.png')\n"
   ]
  },
  {
   "cell_type": "markdown",
   "metadata": {},
   "source": [
    "####  Northern Hemisphere - Cloudiness (%) vs. Latitude Linear Regression"
   ]
  },
  {
   "cell_type": "code",
   "execution_count": 51,
   "metadata": {},
   "outputs": [
    {
     "name": "stdout",
     "output_type": "stream",
     "text": [
      "The r-value is: 0.0048829977559294024\n"
     ]
    },
    {
     "data": {
      "image/png": "[encoded data removed]",
      "text/plain": [
       "<Figure size 432x288 with 1 Axes>"
      ]
     },
     "metadata": {
      "needs_background": "light"
     },
     "output_type": "display_data"
    }
   ],
   "source": [
    "# Northern Hemisphere\n",
    "x_values = northern_hemi_df[\"Lat\"]\n",
    "y_values = northern_hemi_df[\"Cloudiness\"]\n",
    "plot_linear_regression(x_values, y_values, 'Cloudiness', (40,10)) "
   ]
  },
  {
   "cell_type": "code",
   "execution_count": 37,
   "metadata": {},
   "outputs": [
    {
     "name": "stdout",
     "output_type": "stream",
     "text": [
      "The r-squared is: -0.08379480895539887\n"
     ]
    },
    {
     "data": {
      "image/png": "[encoded data removed]",
      "text/plain": [
       "<Figure size 432x288 with 1 Axes>"
      ]
     },
     "metadata": {
      "needs_background": "light"
     },
     "output_type": "display_data"
    },
    {
     "data": {
      "text/plain": [
       "<Figure size 432x288 with 0 Axes>"
      ]
     },
     "metadata": {},
     "output_type": "display_data"
    }
   ],
   "source": [
    "#Northern Hemisphere - Cloudiness (%) vs. Latitude, Linear Regression\n",
    "x_values = northlat_df[\"Lat\"]\n",
    "y_values = northlat_df[\"Cloudiness\"]\n",
    "plot_linear_regression(x_values,y_values,'Cloudiness',(6,30))\n",
    "\n",
    "plt.savefig('northern_cloud_lat.png')\n"
   ]
  },
  {
   "cell_type": "markdown",
   "metadata": {},
   "source": [
    "####  Southern Hemisphere - Cloudiness (%) vs. Latitude Linear Regression"
   ]
  },
  {
   "cell_type": "code",
   "execution_count": 38,
   "metadata": {},
   "outputs": [
    {
     "name": "stdout",
     "output_type": "stream",
     "text": [
      "The r-squared is: 0.012253487093781082\n"
     ]
    },
    {
     "data": {
      "image/png": "[encoded data removed]",
      "text/plain": [
       "<Figure size 432x288 with 1 Axes>"
      ]
     },
     "metadata": {
      "needs_background": "light"
     },
     "output_type": "display_data"
    },
    {
     "data": {
      "text/plain": [
       "<Figure size 432x288 with 0 Axes>"
      ]
     },
     "metadata": {},
     "output_type": "display_data"
    }
   ],
   "source": [
    "#Southern Hemisphere - Cloudiness (%) vs. Latitude, Linear Regression\n",
    "x_values = southlat_df[\"Lat\"]\n",
    "y_values = southlat_df[\"Cloudiness\"]\n",
    "plot_linear_regression(x_values,y_values,'Cloudiness',(6,30))\n",
    "\n",
    "plt.savefig('southern_cloud_lat.png')\n"
   ]
  },
  {
   "cell_type": "markdown",
   "metadata": {},
   "source": [
    "####  Northern Hemisphere - Wind Speed (mph) vs. Latitude Linear Regression"
   ]
  },
  {
   "cell_type": "code",
   "execution_count": 39,
   "metadata": {},
   "outputs": [
    {
     "name": "stdout",
     "output_type": "stream",
     "text": [
      "The r-squared is: -0.06349733695792475\n"
     ]
    },
    {
     "data": {
      "image/png": "[encoded data removed]",
      "text/plain": [
       "<Figure size 432x288 with 1 Axes>"
      ]
     },
     "metadata": {
      "needs_background": "light"
     },
     "output_type": "display_data"
    },
    {
     "data": {
      "text/plain": [
       "<Figure size 432x288 with 0 Axes>"
      ]
     },
     "metadata": {},
     "output_type": "display_data"
    }
   ],
   "source": [
    "#Northern Hemisphere - Wind Speed (mph) vs. Latitude, Linear Regression\n",
    "x_values = northlat_df[\"Lat\"]\n",
    "y_values = northlat_df[\"Wind Speed\"]\n",
    "plot_linear_regression(x_values,y_values,'Wind Speed',(6,30))\n",
    "\n",
    "plt.savefig('northern_wind_lat.png')\n"
   ]
  },
  {
   "cell_type": "markdown",
   "metadata": {},
   "source": [
    "####  Southern Hemisphere - Wind Speed (mph) vs. Latitude Linear Regression"
   ]
  },
  {
   "cell_type": "code",
   "execution_count": 40,
   "metadata": {},
   "outputs": [
    {
     "name": "stdout",
     "output_type": "stream",
     "text": [
      "The r-squared is: -0.07244108161969205\n"
     ]
    },
    {
     "data": {
      "image/png": "[encoded data removed]",
      "text/plain": [
       "<Figure size 432x288 with 1 Axes>"
      ]
     },
     "metadata": {
      "needs_background": "light"
     },
     "output_type": "display_data"
    },
    {
     "data": {
      "text/plain": [
       "<Figure size 432x288 with 0 Axes>"
      ]
     },
     "metadata": {},
     "output_type": "display_data"
    }
   ],
   "source": [
    "#Southern Hemisphere - Wind Speed (mph) vs. Latitude, Linear Regression\n",
    "\n",
    "x_values = southlat_df[\"Lat\"]\n",
    "y_values = southlat_df[\"Wind Speed\"]\n",
    "plot_linear_regression(x_values,y_values,'Wind Speed',(6,30))\n",
    "\n",
    "plt.savefig('southernwindlat.png')\n"
   ]
  },
  {
   "cell_type": "code",
   "execution_count": null,
   "metadata": {},
   "outputs": [],
   "source": [
    "print(\"The low R-Ssquared values indicated little correlation between latitude with any factor outside of max temperature, which shows a higher R-Squared value in comparison\") \")"
   ]
  }
 ],
 "metadata": {
  "anaconda-cloud": {},
  "kernel_info": {
   "name": "python3"
  },
  "kernelspec": {
   "display_name": "Python 3",
   "language": "python",
   "name": "python3"
  },
  "language_info": {
   "codemirror_mode": {
    "name": "ipython",
    "version": 3
   },
   "file_extension": ".py",
   "mimetype": "text/x-python",
   "name": "python",
   "nbconvert_exporter": "python",
   "pygments_lexer": "ipython3",
   "version": "3.8.5"
  },
  "latex_envs": {
   "LaTeX_envs_menu_present": true,
   "autoclose": false,
   "autocomplete": true,
   "bibliofile": "biblio.bib",
   "cite_by": "apalike",
   "current_citInitial": 1,
   "eqLabelWithNumbers": true,
   "eqNumInitial": 1,
   "hotkeys": {
    "equation": "Ctrl-E",
    "itemize": "Ctrl-I"
   },
   "labels_anchors": false,
   "latex_user_defs": false,
   "report_style_numbering": false,
   "user_envs_cfg": false
  },
  "nteract": {
   "version": "0.12.3"
  }
 },
 "nbformat": 4,
 "nbformat_minor": 2
}
